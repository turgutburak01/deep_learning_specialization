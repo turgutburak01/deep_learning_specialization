{
  "cells": [
    {
      "cell_type": "code",
      "execution_count": 4,
      "id": "c123ef38",
      "metadata": {
        "colab": {
          "base_uri": "https://localhost:8080/"
        },
        "id": "c123ef38",
        "outputId": "63123b4c-9ee3-418b-f167-b64e514ecc93"
      },
      "outputs": [
        {
          "output_type": "stream",
          "name": "stdout",
          "text": [
            "{'story': {'answer': ['', '', 'office'], 'id': ['1', '2', '3'], 'supporting_ids': [[], [], ['1']], 'text': ['The office is north of the kitchen.', 'The garden is south of the kitchen.', 'What is north of the kitchen?'], 'type': [0, 0, 1]}}\n"
          ]
        }
      ],
      "source": [
        "from datasets import load_from_disk\n",
        "\n",
        "babi_dataset = load_from_disk('data/')\n",
        "print(babi_dataset['train'][0])"
      ]
    },
    {
      "cell_type": "code",
      "execution_count": 5,
      "id": "3e0010a4",
      "metadata": {
        "colab": {
          "base_uri": "https://localhost:8080/"
        },
        "id": "3e0010a4",
        "outputId": "03f15c9c-1d46-4c42-9cfb-0ba8c99528e0"
      },
      "outputs": [
        {
          "output_type": "execute_result",
          "data": {
            "text/plain": [
              "{'story': {'answer': ['', '', 'bedroom'],\n",
              "  'id': ['1', '2', '3'],\n",
              "  'supporting_ids': [[], [], ['2']],\n",
              "  'text': ['The bedroom is west of the office.',\n",
              "   'The bedroom is east of the hallway.',\n",
              "   'What is east of the hallway?'],\n",
              "  'type': [0, 0, 1]}}"
            ]
          },
          "metadata": {},
          "execution_count": 5
        }
      ],
      "source": [
        "babi_dataset['train'][102]"
      ]
    },
    {
      "cell_type": "code",
      "execution_count": 6,
      "id": "84c8ad2a",
      "metadata": {
        "id": "84c8ad2a"
      },
      "outputs": [],
      "source": [
        "type_set = set()\n",
        "for story in babi_dataset['train']:\n",
        "    if str(story['story']['type']) not in type_set:\n",
        "        type_set.add(str(story['story']['type']))"
      ]
    },
    {
      "cell_type": "code",
      "execution_count": 7,
      "id": "a230441e",
      "metadata": {
        "colab": {
          "base_uri": "https://localhost:8080/"
        },
        "id": "a230441e",
        "outputId": "77eeb35d-4714-420c-ff20-f14d650c210e"
      },
      "outputs": [
        {
          "output_type": "execute_result",
          "data": {
            "text/plain": [
              "{'[0, 0, 1]'}"
            ]
          },
          "metadata": {},
          "execution_count": 7
        }
      ],
      "source": [
        "type_set"
      ]
    },
    {
      "cell_type": "code",
      "execution_count": 8,
      "id": "5d4ac8e4",
      "metadata": {
        "id": "5d4ac8e4"
      },
      "outputs": [],
      "source": [
        "flattened_babi = babi_dataset.flatten()"
      ]
    },
    {
      "cell_type": "code",
      "execution_count": 9,
      "id": "48fec017",
      "metadata": {
        "colab": {
          "base_uri": "https://localhost:8080/"
        },
        "id": "48fec017",
        "outputId": "4c2dcfa5-86e3-4ba3-988a-2745608b1ca2"
      },
      "outputs": [
        {
          "output_type": "execute_result",
          "data": {
            "text/plain": [
              "DatasetDict({\n",
              "    train: Dataset({\n",
              "        features: ['story.answer', 'story.id', 'story.supporting_ids', 'story.text', 'story.type'],\n",
              "        num_rows: 1000\n",
              "    })\n",
              "    test: Dataset({\n",
              "        features: ['story.answer', 'story.id', 'story.supporting_ids', 'story.text', 'story.type'],\n",
              "        num_rows: 1000\n",
              "    })\n",
              "})"
            ]
          },
          "metadata": {},
          "execution_count": 9
        }
      ],
      "source": [
        "flattened_babi"
      ]
    },
    {
      "cell_type": "code",
      "execution_count": 10,
      "id": "a1eade7f",
      "metadata": {
        "colab": {
          "base_uri": "https://localhost:8080/"
        },
        "id": "a1eade7f",
        "outputId": "b69bf04a-326f-4c68-d7df-761ae4185a52"
      },
      "outputs": [
        {
          "output_type": "execute_result",
          "data": {
            "text/plain": [
              "{'story.answer': ['', '', 'office'],\n",
              " 'story.id': ['1', '2', '3'],\n",
              " 'story.supporting_ids': [[], [], ['1']],\n",
              " 'story.text': ['The office is north of the kitchen.',\n",
              "  'The garden is south of the kitchen.',\n",
              "  'What is north of the kitchen?'],\n",
              " 'story.type': [0, 0, 1]}"
            ]
          },
          "metadata": {},
          "execution_count": 10
        }
      ],
      "source": [
        "next(iter(flattened_babi['train']))"
      ]
    },
    {
      "cell_type": "code",
      "execution_count": 11,
      "id": "a1236173",
      "metadata": {
        "id": "a1236173"
      },
      "outputs": [],
      "source": [
        "def get_question_and_facts(story):\n",
        "    dic = {}\n",
        "    dic['question'] = story['story.text'][2]\n",
        "    dic['sentences'] = ' '.join([story['story.text'][0], story['story.text'][1]])\n",
        "    dic['answer'] = story['story.answer'][2]\n",
        "    return dic"
      ]
    },
    {
      "cell_type": "code",
      "execution_count": 12,
      "id": "f24490da",
      "metadata": {
        "id": "f24490da"
      },
      "outputs": [],
      "source": [
        "processed = flattened_babi.map(get_question_and_facts)"
      ]
    },
    {
      "cell_type": "code",
      "execution_count": 13,
      "id": "8bd8f1f3",
      "metadata": {
        "colab": {
          "base_uri": "https://localhost:8080/"
        },
        "id": "8bd8f1f3",
        "outputId": "31f154df-86f9-4dcf-de64-31986f8598d4"
      },
      "outputs": [
        {
          "output_type": "execute_result",
          "data": {
            "text/plain": [
              "{'story.answer': ['', '', 'bedroom'],\n",
              " 'story.id': ['1', '2', '3'],\n",
              " 'story.supporting_ids': [[], [], ['2']],\n",
              " 'story.text': ['The garden is north of the office.',\n",
              "  'The bedroom is north of the garden.',\n",
              "  'What is north of the garden?'],\n",
              " 'story.type': [0, 0, 1],\n",
              " 'question': 'What is north of the garden?',\n",
              " 'sentences': 'The garden is north of the office. The bedroom is north of the garden.',\n",
              " 'answer': 'bedroom'}"
            ]
          },
          "metadata": {},
          "execution_count": 13
        }
      ],
      "source": [
        "processed['train'][2]"
      ]
    },
    {
      "cell_type": "code",
      "execution_count": 14,
      "id": "419ac9c1",
      "metadata": {
        "colab": {
          "base_uri": "https://localhost:8080/"
        },
        "id": "419ac9c1",
        "outputId": "574876b9-2043-4dae-b530-feec1a6f2d3c"
      },
      "outputs": [
        {
          "output_type": "execute_result",
          "data": {
            "text/plain": [
              "{'story.answer': ['', '', 'bathroom'],\n",
              " 'story.id': ['1', '2', '3'],\n",
              " 'story.supporting_ids': [[], [], ['1']],\n",
              " 'story.text': ['The bathroom is north of the garden.',\n",
              "  'The hallway is north of the bathroom.',\n",
              "  'What is north of the garden?'],\n",
              " 'story.type': [0, 0, 1],\n",
              " 'question': 'What is north of the garden?',\n",
              " 'sentences': 'The bathroom is north of the garden. The hallway is north of the bathroom.',\n",
              " 'answer': 'bathroom'}"
            ]
          },
          "metadata": {},
          "execution_count": 14
        }
      ],
      "source": [
        "processed['test'][2]"
      ]
    },
    {
      "cell_type": "code",
      "execution_count": 15,
      "id": "c9169394",
      "metadata": {
        "id": "c9169394"
      },
      "outputs": [],
      "source": [
        "def get_start_end_idx(story):\n",
        "    str_idx = story['sentences'].find(story['answer'])\n",
        "    end_idx = str_idx + len(story['answer'])\n",
        "    return {'str_idx':str_idx,\n",
        "          'end_idx': end_idx}"
      ]
    },
    {
      "cell_type": "code",
      "execution_count": 16,
      "id": "8fcc6a69",
      "metadata": {
        "id": "8fcc6a69"
      },
      "outputs": [],
      "source": [
        "processed = processed.map(get_start_end_idx)"
      ]
    },
    {
      "cell_type": "code",
      "execution_count": 17,
      "id": "31606026",
      "metadata": {
        "colab": {
          "base_uri": "https://localhost:8080/"
        },
        "id": "31606026",
        "outputId": "4169a0fe-1896-4174-eaf0-221742c4bc4e"
      },
      "outputs": [
        {
          "output_type": "stream",
          "name": "stdout",
          "text": [
            "{'story.answer': ['', '', 'garden'], 'story.id': ['1', '2', '3'], 'story.supporting_ids': [[], [], ['2']], 'story.text': ['The hallway is south of the garden.', 'The garden is south of the bedroom.', 'What is south of the bedroom?'], 'story.type': [0, 0, 1], 'question': 'What is south of the bedroom?', 'sentences': 'The hallway is south of the garden. The garden is south of the bedroom.', 'answer': 'garden', 'str_idx': 28, 'end_idx': 34}\n",
            "answer: garden\n"
          ]
        }
      ],
      "source": [
        "num = 187\n",
        "print(processed['test'][num])\n",
        "start_idx = processed['test'][num]['str_idx']\n",
        "end_idx = processed['test'][num]['end_idx']\n",
        "print('answer:', processed['test'][num]['sentences'][start_idx:end_idx])"
      ]
    },
    {
      "cell_type": "code",
      "execution_count": 18,
      "id": "737d5b13",
      "metadata": {
        "id": "737d5b13"
      },
      "outputs": [],
      "source": [
        "from transformers import DistilBertTokenizerFast\n",
        "tokenizer = DistilBertTokenizerFast.from_pretrained('tokenizer/')"
      ]
    },
    {
      "cell_type": "code",
      "execution_count": 19,
      "id": "07159fbd",
      "metadata": {
        "id": "07159fbd"
      },
      "outputs": [],
      "source": [
        "def tokenize_align(example):\n",
        "    encoding = tokenizer(example['sentences'], example['question'], truncation=True, padding=True, max_length=tokenizer.model_max_length)\n",
        "    start_positions = encoding.char_to_token(example['str_idx'])\n",
        "    end_positions = encoding.char_to_token(example['end_idx']-1)\n",
        "    if start_positions is None:\n",
        "        start_positions = tokenizer.model_max_length\n",
        "    if end_positions is None:\n",
        "        end_positions = tokenizer.model_max_length\n",
        "    return {'input_ids': encoding['input_ids'],\n",
        "          'attention_mask': encoding['attention_mask'],\n",
        "          'start_positions': start_positions,\n",
        "          'end_positions': end_positions}"
      ]
    },
    {
      "cell_type": "code",
      "execution_count": 20,
      "id": "8f373e83",
      "metadata": {
        "colab": {
          "base_uri": "https://localhost:8080/",
          "height": 49,
          "referenced_widgets": [
            "9b4374eeb9104754a045f7fd83f3f14b",
            "200c7666ce5f45f6a1470fb32997df42",
            "7a18c080757d4b6ebbf4b94b7715c449",
            "1d52eb0f91a54f309591cd437f2d6fc8",
            "5dab8f37babf429490f14c3904a0e262",
            "657673973f724008b929f96e86f24d33",
            "496b02bfb464468db8509cba011383b6",
            "5f96801d27474f819066faf8b70bc64d",
            "2a37460d6241451a895c4b4f5b2c8aae",
            "795409abd8ef4008a139c885166d6ada",
            "fbce9fefff144f9caab74a7f6fcd89d9"
          ]
        },
        "id": "8f373e83",
        "outputId": "d82ecc66-1bec-4d71-a6fe-6c6c3b4de487"
      },
      "outputs": [
        {
          "output_type": "display_data",
          "data": {
            "text/plain": [
              "Map:   0%|          | 0/1000 [00:00<?, ? examples/s]"
            ],
            "application/vnd.jupyter.widget-view+json": {
              "version_major": 2,
              "version_minor": 0,
              "model_id": "9b4374eeb9104754a045f7fd83f3f14b"
            }
          },
          "metadata": {}
        }
      ],
      "source": [
        "qa_dataset = processed.map(tokenize_align)"
      ]
    },
    {
      "cell_type": "code",
      "execution_count": 21,
      "id": "43199a6d",
      "metadata": {
        "id": "43199a6d"
      },
      "outputs": [],
      "source": [
        "qa_dataset = qa_dataset.remove_columns(['story.answer', 'story.id', 'story.supporting_ids', 'story.text', 'story.type'])"
      ]
    },
    {
      "cell_type": "code",
      "execution_count": 22,
      "id": "a6afc61a",
      "metadata": {
        "colab": {
          "base_uri": "https://localhost:8080/"
        },
        "id": "a6afc61a",
        "outputId": "9998bd88-4cd7-4b83-e287-38fd23de0181"
      },
      "outputs": [
        {
          "output_type": "execute_result",
          "data": {
            "text/plain": [
              "{'question': 'What is north of the bathroom?',\n",
              " 'sentences': 'The garden is north of the bathroom. The hallway is south of the bathroom.',\n",
              " 'answer': 'garden',\n",
              " 'str_idx': 4,\n",
              " 'end_idx': 10,\n",
              " 'input_ids': [101,\n",
              "  1996,\n",
              "  3871,\n",
              "  2003,\n",
              "  2167,\n",
              "  1997,\n",
              "  1996,\n",
              "  5723,\n",
              "  1012,\n",
              "  1996,\n",
              "  6797,\n",
              "  2003,\n",
              "  2148,\n",
              "  1997,\n",
              "  1996,\n",
              "  5723,\n",
              "  1012,\n",
              "  102,\n",
              "  2054,\n",
              "  2003,\n",
              "  2167,\n",
              "  1997,\n",
              "  1996,\n",
              "  5723,\n",
              "  1029,\n",
              "  102],\n",
              " 'attention_mask': [1,\n",
              "  1,\n",
              "  1,\n",
              "  1,\n",
              "  1,\n",
              "  1,\n",
              "  1,\n",
              "  1,\n",
              "  1,\n",
              "  1,\n",
              "  1,\n",
              "  1,\n",
              "  1,\n",
              "  1,\n",
              "  1,\n",
              "  1,\n",
              "  1,\n",
              "  1,\n",
              "  1,\n",
              "  1,\n",
              "  1,\n",
              "  1,\n",
              "  1,\n",
              "  1,\n",
              "  1,\n",
              "  1],\n",
              " 'start_positions': 2,\n",
              " 'end_positions': 2}"
            ]
          },
          "metadata": {},
          "execution_count": 22
        }
      ],
      "source": [
        "qa_dataset['train'][200]"
      ]
    },
    {
      "cell_type": "code",
      "execution_count": 23,
      "id": "e74330a1",
      "metadata": {
        "id": "e74330a1"
      },
      "outputs": [],
      "source": [
        "train_ds = qa_dataset['train']\n",
        "test_ds = qa_dataset['test']"
      ]
    },
    {
      "cell_type": "code",
      "execution_count": 24,
      "id": "1aab37b6",
      "metadata": {
        "colab": {
          "base_uri": "https://localhost:8080/"
        },
        "id": "1aab37b6",
        "outputId": "424c3f9d-7b7a-4521-e70d-6d0b4f73d9bf"
      },
      "outputs": [
        {
          "output_type": "stream",
          "name": "stderr",
          "text": [
            "All model checkpoint layers were used when initializing TFDistilBertForQuestionAnswering.\n",
            "\n",
            "All the layers of TFDistilBertForQuestionAnswering were initialized from the model checkpoint at model/tensorflow.\n",
            "If your task is similar to the task the model of the checkpoint was trained on, you can already use TFDistilBertForQuestionAnswering for predictions without further training.\n"
          ]
        }
      ],
      "source": [
        "from transformers import TFDistilBertForQuestionAnswering\n",
        "model = TFDistilBertForQuestionAnswering.from_pretrained(\"model/tensorflow\", return_dict=False)"
      ]
    },
    {
      "cell_type": "code",
      "execution_count": 25,
      "id": "dc31e2ef",
      "metadata": {
        "id": "dc31e2ef"
      },
      "outputs": [],
      "source": [
        "import tensorflow as tf\n",
        "\n",
        "columns_to_return = ['input_ids','attention_mask', 'start_positions', 'end_positions']\n",
        "\n",
        "train_ds.set_format(type='tf', columns=columns_to_return)\n",
        "\n",
        "train_features = {x: train_ds[x] for x in ['input_ids', 'attention_mask']}\n",
        "train_labels = {\"start_positions\": tf.reshape(train_ds['start_positions'], shape=[-1,1]),\n",
        "                'end_positions': tf.reshape(train_ds['end_positions'], shape=[-1,1])}\n",
        "\n",
        "\n",
        "train_tfdataset = tf.data.Dataset.from_tensor_slices((train_features, train_labels)).batch(8)"
      ]
    },
    {
      "cell_type": "code",
      "execution_count": 26,
      "id": "2c80274f",
      "metadata": {
        "colab": {
          "base_uri": "https://localhost:8080/"
        },
        "id": "2c80274f",
        "outputId": "0553f5ab-137d-45d1-84ba-37e966bf3ddd"
      },
      "outputs": [
        {
          "output_type": "stream",
          "name": "stdout",
          "text": [
            "Starting epoch: 0\n"
          ]
        },
        {
          "output_type": "stream",
          "name": "stderr",
          "text": [
            "WARNING:tensorflow:5 out of the last 5 calls to <function _BaseOptimizer._update_step_xla at 0x7934935f6ef0> triggered tf.function retracing. Tracing is expensive and the excessive number of tracings could be due to (1) creating @tf.function repeatedly in a loop, (2) passing tensors with different shapes, (3) passing Python objects instead of tensors. For (1), please define your @tf.function outside of the loop. For (2), @tf.function has reduce_retracing=True option that can avoid unnecessary retracing. For (3), please refer to https://www.tensorflow.org/guide/function#controlling_retracing and https://www.tensorflow.org/api_docs/python/tf/function for  more details.\n",
            "WARNING:tensorflow:6 out of the last 6 calls to <function _BaseOptimizer._update_step_xla at 0x7934935f6ef0> triggered tf.function retracing. Tracing is expensive and the excessive number of tracings could be due to (1) creating @tf.function repeatedly in a loop, (2) passing tensors with different shapes, (3) passing Python objects instead of tensors. For (1), please define your @tf.function outside of the loop. For (2), @tf.function has reduce_retracing=True option that can avoid unnecessary retracing. For (3), please refer to https://www.tensorflow.org/guide/function#controlling_retracing and https://www.tensorflow.org/api_docs/python/tf/function for  more details.\n"
          ]
        },
        {
          "output_type": "stream",
          "name": "stdout",
          "text": [
            "Training loss (for one batch) at step 0: 3.3658\n",
            "Training loss (for one batch) at step 20: 1.2483\n",
            "Training loss (for one batch) at step 40: 0.5979\n",
            "Training loss (for one batch) at step 60: 0.6204\n",
            "Training loss (for one batch) at step 80: 0.5232\n",
            "Training loss (for one batch) at step 100: 0.0905\n",
            "Training loss (for one batch) at step 120: 0.5396\n",
            "Starting epoch: 1\n",
            "Training loss (for one batch) at step 0: 0.6678\n",
            "Training loss (for one batch) at step 20: 0.2428\n",
            "Training loss (for one batch) at step 40: 0.5100\n",
            "Training loss (for one batch) at step 60: 0.3295\n",
            "Training loss (for one batch) at step 80: 0.1329\n",
            "Training loss (for one batch) at step 100: 0.0941\n",
            "Training loss (for one batch) at step 120: 0.4566\n",
            "Starting epoch: 2\n",
            "Training loss (for one batch) at step 0: 0.3275\n",
            "Training loss (for one batch) at step 20: 0.0785\n",
            "Training loss (for one batch) at step 40: 0.5082\n",
            "Training loss (for one batch) at step 60: 0.3203\n",
            "Training loss (for one batch) at step 80: 0.1032\n",
            "Training loss (for one batch) at step 100: 0.0896\n",
            "Training loss (for one batch) at step 120: 0.4078\n"
          ]
        }
      ],
      "source": [
        "EPOCHS = 3\n",
        "loss_fn1 = tf.keras.losses.SparseCategoricalCrossentropy(from_logits=True)\n",
        "loss_fn2 = tf.keras.losses.SparseCategoricalCrossentropy(from_logits=True)\n",
        "opt = tf.keras.optimizers.Adam(learning_rate=3e-5)\n",
        "\n",
        "losses = []\n",
        "for epoch in range(EPOCHS):\n",
        "    print(\"Starting epoch: %d\"% epoch )\n",
        "    for step, (x_batch_train, y_batch_train) in enumerate(train_tfdataset):\n",
        "        with tf.GradientTape() as tape:\n",
        "            answer_start_scores, answer_end_scores = model(x_batch_train)\n",
        "            loss_start = loss_fn1(y_batch_train['start_positions'], answer_start_scores)\n",
        "            loss_end = loss_fn2(y_batch_train['end_positions'], answer_end_scores)\n",
        "            loss = 0.5 * (loss_start + loss_end)\n",
        "        losses.append(loss)\n",
        "        grads = tape.gradient(loss, model.trainable_weights)\n",
        "        opt.apply_gradients(zip(grads, model.trainable_weights))\n",
        "\n",
        "        if step % 20 == 0:\n",
        "            print(\"Training loss (for one batch) at step %d: %.4f\"% (step,\n",
        "                                                                   float(loss_start)))\n"
      ]
    },
    {
      "cell_type": "code",
      "execution_count": 27,
      "id": "759202fb",
      "metadata": {
        "colab": {
          "base_uri": "https://localhost:8080/",
          "height": 430
        },
        "id": "759202fb",
        "outputId": "eed0865d-368c-47f5-a1e8-c93d8a2c7477"
      },
      "outputs": [
        {
          "output_type": "display_data",
          "data": {
            "text/plain": [
              "<Figure size 640x480 with 1 Axes>"
            ],
            "image/png": "[encoded data removed]"
          },
          "metadata": {}
        }
      ],
      "source": [
        "import matplotlib.pyplot as plt\n",
        "\n",
        "plt.plot(losses)\n",
        "plt.show()"
      ]
    },
    {
      "cell_type": "code",
      "execution_count": 28,
      "id": "0073ad37",
      "metadata": {
        "colab": {
          "base_uri": "https://localhost:8080/"
        },
        "id": "0073ad37",
        "outputId": "0feb0274-96ac-401d-a049-6b015cfc98c1"
      },
      "outputs": [
        {
          "output_type": "stream",
          "name": "stdout",
          "text": [
            "What is south of the bedroom? Garden\n"
          ]
        }
      ],
      "source": [
        "question, text = 'What is south of the bedroom?','The hallway is south of the garden. The garden is south of the bedroom.'\n",
        "input_dict = tokenizer(text, question, return_tensors='tf')\n",
        "outputs = model(input_dict)\n",
        "start_logits = outputs[0]\n",
        "end_logits = outputs[1]\n",
        "\n",
        "all_tokens = tokenizer.convert_ids_to_tokens(input_dict[\"input_ids\"].numpy()[0])\n",
        "answer = ' '.join(all_tokens[tf.math.argmax(start_logits, 1)[0] : tf.math.argmax(end_logits, 1)[0]+1])\n",
        "print(question, answer.capitalize())"
      ]
    },
    {
      "cell_type": "code",
      "execution_count": 29,
      "id": "e57b3ad1",
      "metadata": {
        "id": "e57b3ad1"
      },
      "outputs": [],
      "source": [
        "from torch.utils.data import DataLoader\n",
        "\n",
        "columns_to_return = ['input_ids','attention_mask', 'start_positions', 'end_positions']\n",
        "train_ds.set_format(type='pt', columns=columns_to_return)\n",
        "test_ds.set_format(type='pt', columns=columns_to_return)"
      ]
    },
    {
      "cell_type": "code",
      "execution_count": 30,
      "id": "66d44652",
      "metadata": {
        "id": "66d44652"
      },
      "outputs": [],
      "source": [
        "from sklearn.metrics import f1_score\n",
        "\n",
        "def compute_metrics(pred):\n",
        "    start_labels = pred.label_ids[0]\n",
        "    start_preds = pred.predictions[0].argmax(-1)\n",
        "    end_labels = pred.label_ids[1]\n",
        "    end_preds = pred.predictions[1].argmax(-1)\n",
        "\n",
        "    f1_start = f1_score(start_labels, start_preds, average='macro')\n",
        "    f1_end = f1_score(end_labels, end_preds, average='macro')\n",
        "\n",
        "    return {\n",
        "        'f1_start': f1_start,\n",
        "        'f1_end': f1_end,\n",
        "    }"
      ]
    },
    {
      "cell_type": "code",
      "execution_count": 31,
      "id": "1611dfa5",
      "metadata": {
        "id": "1611dfa5"
      },
      "outputs": [],
      "source": [
        "del model"
      ]
    },
    {
      "cell_type": "code",
      "execution_count": 32,
      "id": "cd656fa8",
      "metadata": {
        "id": "cd656fa8"
      },
      "outputs": [],
      "source": [
        "from transformers import DistilBertForQuestionAnswering\n",
        "\n",
        "pytorch_model = DistilBertForQuestionAnswering.from_pretrained(\"model/pytorch\")"
      ]
    },
    {
      "cell_type": "code",
      "execution_count": 33,
      "id": "cd3c961a",
      "metadata": {
        "colab": {
          "base_uri": "https://localhost:8080/",
          "height": 332
        },
        "id": "cd3c961a",
        "outputId": "2abe5c6b-d2c4-4af9-d0a2-daa0959e3fc6"
      },
      "outputs": [
        {
          "output_type": "display_data",
          "data": {
            "text/plain": [
              "<IPython.core.display.HTML object>"
            ],
            "text/html": [
              "\n",
              "    <div>\n",
              "      \n",
              "      <progress value='375' max='375' style='width:300px; height:20px; vertical-align: middle;'></progress>\n",
              "      [375/375 00:20, Epoch 3/3]\n",
              "    </div>\n",
              "    <table border=\"1\" class=\"dataframe\">\n",
              "  <thead>\n",
              " <tr style=\"text-align: left;\">\n",
              "      <th>Step</th>\n",
              "      <th>Training Loss</th>\n",
              "    </tr>\n",
              "  </thead>\n",
              "  <tbody>\n",
              "    <tr>\n",
              "      <td>50</td>\n",
              "      <td>1.551200</td>\n",
              "    </tr>\n",
              "    <tr>\n",
              "      <td>100</td>\n",
              "      <td>0.896600</td>\n",
              "    </tr>\n",
              "    <tr>\n",
              "      <td>150</td>\n",
              "      <td>0.562400</td>\n",
              "    </tr>\n",
              "    <tr>\n",
              "      <td>200</td>\n",
              "      <td>0.481200</td>\n",
              "    </tr>\n",
              "    <tr>\n",
              "      <td>250</td>\n",
              "      <td>0.399600</td>\n",
              "    </tr>\n",
              "    <tr>\n",
              "      <td>300</td>\n",
              "      <td>0.393300</td>\n",
              "    </tr>\n",
              "    <tr>\n",
              "      <td>350</td>\n",
              "      <td>0.350300</td>\n",
              "    </tr>\n",
              "  </tbody>\n",
              "</table><p>"
            ]
          },
          "metadata": {}
        },
        {
          "output_type": "execute_result",
          "data": {
            "text/plain": [
              "TrainOutput(global_step=375, training_loss=0.6435019200642904, metrics={'train_runtime': 20.3578, 'train_samples_per_second': 147.363, 'train_steps_per_second': 18.42, 'total_flos': 19904183208000.0, 'train_loss': 0.6435019200642904, 'epoch': 3.0})"
            ]
          },
          "metadata": {},
          "execution_count": 33
        }
      ],
      "source": [
        "from transformers import Trainer, TrainingArguments\n",
        "\n",
        "training_args = TrainingArguments(\n",
        "    output_dir='results/',\n",
        "    overwrite_output_dir=True,\n",
        "    num_train_epochs=3,\n",
        "    per_device_train_batch_size=8,\n",
        "    per_device_eval_batch_size=8,\n",
        "    warmup_steps=20,\n",
        "    weight_decay=0.01,\n",
        "    logging_dir=None,\n",
        "    logging_steps=50\n",
        ")\n",
        "\n",
        "trainer = Trainer(\n",
        "    model=pytorch_model,\n",
        "    args=training_args,\n",
        "    train_dataset=train_ds,\n",
        "    eval_dataset=test_ds,\n",
        "    compute_metrics=compute_metrics\n",
        ")\n",
        "\n",
        "trainer.train()"
      ]
    },
    {
      "cell_type": "code",
      "execution_count": 34,
      "id": "0b8394c8",
      "metadata": {
        "colab": {
          "base_uri": "https://localhost:8080/",
          "height": 166
        },
        "id": "0b8394c8",
        "outputId": "3f1bbaa3-c44e-467e-a5de-3425b20706e7"
      },
      "outputs": [
        {
          "output_type": "display_data",
          "data": {
            "text/plain": [
              "<IPython.core.display.HTML object>"
            ],
            "text/html": [
              "\n",
              "    <div>\n",
              "      \n",
              "      <progress value='125' max='125' style='width:300px; height:20px; vertical-align: middle;'></progress>\n",
              "      [125/125 00:01]\n",
              "    </div>\n",
              "    "
            ]
          },
          "metadata": {}
        },
        {
          "output_type": "execute_result",
          "data": {
            "text/plain": [
              "{'eval_loss': 0.327355295419693,\n",
              " 'eval_f1_start': 0.7940603141841533,\n",
              " 'eval_f1_end': 0.7875102880658437,\n",
              " 'eval_runtime': 1.3266,\n",
              " 'eval_samples_per_second': 753.82,\n",
              " 'eval_steps_per_second': 94.227,\n",
              " 'epoch': 3.0}"
            ]
          },
          "metadata": {},
          "execution_count": 34
        }
      ],
      "source": [
        "trainer.evaluate(test_ds)"
      ]
    },
    {
      "cell_type": "code",
      "execution_count": 35,
      "id": "a7dffe7c",
      "metadata": {
        "colab": {
          "base_uri": "https://localhost:8080/"
        },
        "id": "a7dffe7c",
        "outputId": "909d0da3-4b23-4125-942e-295eaef52e61"
      },
      "outputs": [
        {
          "output_type": "stream",
          "name": "stdout",
          "text": [
            "What is east of the hallway? Kitchen\n"
          ]
        }
      ],
      "source": [
        "import torch\n",
        "\n",
        "device = torch.device('cuda') if torch.cuda.is_available() else torch.device('cpu')\n",
        "\n",
        "pytorch_model.to(device)\n",
        "\n",
        "question, text = 'What is east of the hallway?','The kitchen is east of the hallway. The garden is south of the bedroom.'\n",
        "\n",
        "input_dict = tokenizer(text, question, return_tensors='pt')\n",
        "\n",
        "input_ids = input_dict['input_ids'].to(device)\n",
        "attention_mask = input_dict['attention_mask'].to(device)\n",
        "\n",
        "outputs = pytorch_model(input_ids, attention_mask=attention_mask)\n",
        "\n",
        "start_logits = outputs[0]\n",
        "end_logits = outputs[1]\n",
        "\n",
        "all_tokens = tokenizer.convert_ids_to_tokens(input_dict[\"input_ids\"].numpy()[0])\n",
        "answer = ' '.join(all_tokens[torch.argmax(start_logits, 1)[0] : torch.argmax(end_logits, 1)[0]+1])\n",
        "\n",
        "print(question, answer.capitalize())"
      ]
    },
    {
      "cell_type": "code",
      "execution_count": 36,
      "id": "ee6cea98",
      "metadata": {
        "id": "ee6cea98"
      },
      "outputs": [],
      "source": []
    }
  ],
  "metadata": {
    "kernelspec": {
      "display_name": "Python 3",
      "name": "python3"
    },
    "language_info": {
      "codemirror_mode": {
        "name": "ipython",
        "version": 3
      },
      "file_extension": ".py",
      "mimetype": "text/x-python",
      "name": "python",
      "nbconvert_exporter": "python",
      "pygments_lexer": "ipython3",
      "version": "3.11.4"
    },
    "colab": {
      "provenance": [],
      "gpuType": "T4"
    },
    "accelerator": "GPU",
    "widgets": {
      "application/vnd.jupyter.widget-state+json": {
        "9b4374eeb9104754a045f7fd83f3f14b": {
          "model_module": "@jupyter-widgets/controls",
          "model_name": "HBoxModel",
          "model_module_version": "1.5.0",
          "state": {
            "_dom_classes": [],
            "_model_module": "@jupyter-widgets/controls",
            "_model_module_version": "1.5.0",
            "_model_name": "HBoxModel",
            "_view_count": null,
            "_view_module": "@jupyter-widgets/controls",
            "_view_module_version": "1.5.0",
            "_view_name": "HBoxView",
            "box_style": "",
            "children": [
              "IPY_MODEL_200c7666ce5f45f6a1470fb32997df42",
              "IPY_MODEL_7a18c080757d4b6ebbf4b94b7715c449",
              "IPY_MODEL_1d52eb0f91a54f309591cd437f2d6fc8"
            ],
            "layout": "IPY_MODEL_5dab8f37babf429490f14c3904a0e262"
          }
        },
        "200c7666ce5f45f6a1470fb32997df42": {
          "model_module": "@jupyter-widgets/controls",
          "model_name": "HTMLModel",
          "model_module_version": "1.5.0",
          "state": {
            "_dom_classes": [],
            "_model_module": "@jupyter-widgets/controls",
            "_model_module_version": "1.5.0",
            "_model_name": "HTMLModel",
            "_view_count": null,
            "_view_module": "@jupyter-widgets/controls",
            "_view_module_version": "1.5.0",
            "_view_name": "HTMLView",
            "description": "",
            "description_tooltip": null,
            "layout": "IPY_MODEL_657673973f724008b929f96e86f24d33",
            "placeholder": "​",
            "style": "IPY_MODEL_496b02bfb464468db8509cba011383b6",
            "value": "Map: 100%"
          }
        },
        "7a18c080757d4b6ebbf4b94b7715c449": {
          "model_module": "@jupyter-widgets/controls",
          "model_name": "FloatProgressModel",
          "model_module_version": "1.5.0",
          "state": {
            "_dom_classes": [],
            "_model_module": "@jupyter-widgets/controls",
            "_model_module_version": "1.5.0",
            "_model_name": "FloatProgressModel",
            "_view_count": null,
            "_view_module": "@jupyter-widgets/controls",
            "_view_module_version": "1.5.0",
            "_view_name": "ProgressView",
            "bar_style": "success",
            "description": "",
            "description_tooltip": null,
            "layout": "IPY_MODEL_5f96801d27474f819066faf8b70bc64d",
            "max": 1000,
            "min": 0,
            "orientation": "horizontal",
            "style": "IPY_MODEL_2a37460d6241451a895c4b4f5b2c8aae",
            "value": 1000
          }
        },
        "1d52eb0f91a54f309591cd437f2d6fc8": {
          "model_module": "@jupyter-widgets/controls",
          "model_name": "HTMLModel",
          "model_module_version": "1.5.0",
          "state": {
            "_dom_classes": [],
            "_model_module": "@jupyter-widgets/controls",
            "_model_module_version": "1.5.0",
            "_model_name": "HTMLModel",
            "_view_count": null,
            "_view_module": "@jupyter-widgets/controls",
            "_view_module_version": "1.5.0",
            "_view_name": "HTMLView",
            "description": "",
            "description_tooltip": null,
            "layout": "IPY_MODEL_795409abd8ef4008a139c885166d6ada",
            "placeholder": "​",
            "style": "IPY_MODEL_fbce9fefff144f9caab74a7f6fcd89d9",
            "value": " 1000/1000 [00:00&lt;00:00, 2010.26 examples/s]"
          }
        },
        "5dab8f37babf429490f14c3904a0e262": {
          "model_module": "@jupyter-widgets/base",
          "model_name": "LayoutModel",
          "model_module_version": "1.2.0",
          "state": {
            "_model_module": "@jupyter-widgets/base",
            "_model_module_version": "1.2.0",
            "_model_name": "LayoutModel",
            "_view_count": null,
            "_view_module": "@jupyter-widgets/base",
            "_view_module_version": "1.2.0",
            "_view_name": "LayoutView",
            "align_content": null,
            "align_items": null,
            "align_self": null,
            "border": null,
            "bottom": null,
            "display": null,
            "flex": null,
            "flex_flow": null,
            "grid_area": null,
            "grid_auto_columns": null,
            "grid_auto_flow": null,
            "grid_auto_rows": null,
            "grid_column": null,
            "grid_gap": null,
            "grid_row": null,
            "grid_template_areas": null,
            "grid_template_columns": null,
            "grid_template_rows": null,
            "height": null,
            "justify_content": null,
            "justify_items": null,
            "left": null,
            "margin": null,
            "max_height": null,
            "max_width": null,
            "min_height": null,
            "min_width": null,
            "object_fit": null,
            "object_position": null,
            "order": null,
            "overflow": null,
            "overflow_x": null,
            "overflow_y": null,
            "padding": null,
            "right": null,
            "top": null,
            "visibility": null,
            "width": null
          }
        },
        "657673973f724008b929f96e86f24d33": {
          "model_module": "@jupyter-widgets/base",
          "model_name": "LayoutModel",
          "model_module_version": "1.2.0",
          "state": {
            "_model_module": "@jupyter-widgets/base",
            "_model_module_version": "1.2.0",
            "_model_name": "LayoutModel",
            "_view_count": null,
            "_view_module": "@jupyter-widgets/base",
            "_view_module_version": "1.2.0",
            "_view_name": "LayoutView",
            "align_content": null,
            "align_items": null,
            "align_self": null,
            "border": null,
            "bottom": null,
            "display": null,
            "flex": null,
            "flex_flow": null,
            "grid_area": null,
            "grid_auto_columns": null,
            "grid_auto_flow": null,
            "grid_auto_rows": null,
            "grid_column": null,
            "grid_gap": null,
            "grid_row": null,
            "grid_template_areas": null,
            "grid_template_columns": null,
            "grid_template_rows": null,
            "height": null,
            "justify_content": null,
            "justify_items": null,
            "left": null,
            "margin": null,
            "max_height": null,
            "max_width": null,
            "min_height": null,
            "min_width": null,
            "object_fit": null,
            "object_position": null,
            "order": null,
            "overflow": null,
            "overflow_x": null,
            "overflow_y": null,
            "padding": null,
            "right": null,
            "top": null,
            "visibility": null,
            "width": null
          }
        },
        "496b02bfb464468db8509cba011383b6": {
          "model_module": "@jupyter-widgets/controls",
          "model_name": "DescriptionStyleModel",
          "model_module_version": "1.5.0",
          "state": {
            "_model_module": "@jupyter-widgets/controls",
            "_model_module_version": "1.5.0",
            "_model_name": "DescriptionStyleModel",
            "_view_count": null,
            "_view_module": "@jupyter-widgets/base",
            "_view_module_version": "1.2.0",
            "_view_name": "StyleView",
            "description_width": ""
          }
        },
        "5f96801d27474f819066faf8b70bc64d": {
          "model_module": "@jupyter-widgets/base",
          "model_name": "LayoutModel",
          "model_module_version": "1.2.0",
          "state": {
            "_model_module": "@jupyter-widgets/base",
            "_model_module_version": "1.2.0",
            "_model_name": "LayoutModel",
            "_view_count": null,
            "_view_module": "@jupyter-widgets/base",
            "_view_module_version": "1.2.0",
            "_view_name": "LayoutView",
            "align_content": null,
            "align_items": null,
            "align_self": null,
            "border": null,
            "bottom": null,
            "display": null,
            "flex": null,
            "flex_flow": null,
            "grid_area": null,
            "grid_auto_columns": null,
            "grid_auto_flow": null,
            "grid_auto_rows": null,
            "grid_column": null,
            "grid_gap": null,
            "grid_row": null,
            "grid_template_areas": null,
            "grid_template_columns": null,
            "grid_template_rows": null,
            "height": null,
            "justify_content": null,
            "justify_items": null,
            "left": null,
            "margin": null,
            "max_height": null,
            "max_width": null,
            "min_height": null,
            "min_width": null,
            "object_fit": null,
            "object_position": null,
            "order": null,
            "overflow": null,
            "overflow_x": null,
            "overflow_y": null,
            "padding": null,
            "right": null,
            "top": null,
            "visibility": null,
            "width": null
          }
        },
        "2a37460d6241451a895c4b4f5b2c8aae": {
          "model_module": "@jupyter-widgets/controls",
          "model_name": "ProgressStyleModel",
          "model_module_version": "1.5.0",
          "state": {
            "_model_module": "@jupyter-widgets/controls",
            "_model_module_version": "1.5.0",
            "_model_name": "ProgressStyleModel",
            "_view_count": null,
            "_view_module": "@jupyter-widgets/base",
            "_view_module_version": "1.2.0",
            "_view_name": "StyleView",
            "bar_color": null,
            "description_width": ""
          }
        },
        "795409abd8ef4008a139c885166d6ada": {
          "model_module": "@jupyter-widgets/base",
          "model_name": "LayoutModel",
          "model_module_version": "1.2.0",
          "state": {
            "_model_module": "@jupyter-widgets/base",
            "_model_module_version": "1.2.0",
            "_model_name": "LayoutModel",
            "_view_count": null,
            "_view_module": "@jupyter-widgets/base",
            "_view_module_version": "1.2.0",
            "_view_name": "LayoutView",
            "align_content": null,
            "align_items": null,
            "align_self": null,
            "border": null,
            "bottom": null,
            "display": null,
            "flex": null,
            "flex_flow": null,
            "grid_area": null,
            "grid_auto_columns": null,
            "grid_auto_flow": null,
            "grid_auto_rows": null,
            "grid_column": null,
            "grid_gap": null,
            "grid_row": null,
            "grid_template_areas": null,
            "grid_template_columns": null,
            "grid_template_rows": null,
            "height": null,
            "justify_content": null,
            "justify_items": null,
            "left": null,
            "margin": null,
            "max_height": null,
            "max_width": null,
            "min_height": null,
            "min_width": null,
            "object_fit": null,
            "object_position": null,
            "order": null,
            "overflow": null,
            "overflow_x": null,
            "overflow_y": null,
            "padding": null,
            "right": null,
            "top": null,
            "visibility": null,
            "width": null
          }
        },
        "fbce9fefff144f9caab74a7f6fcd89d9": {
          "model_module": "@jupyter-widgets/controls",
          "model_name": "DescriptionStyleModel",
          "model_module_version": "1.5.0",
          "state": {
            "_model_module": "@jupyter-widgets/controls",
            "_model_module_version": "1.5.0",
            "_model_name": "DescriptionStyleModel",
            "_view_count": null,
            "_view_module": "@jupyter-widgets/base",
            "_view_module_version": "1.2.0",
            "_view_name": "StyleView",
            "description_width": ""
          }
        }
      }
    }
  },
  "nbformat": 4,
  "nbformat_minor": 5
}