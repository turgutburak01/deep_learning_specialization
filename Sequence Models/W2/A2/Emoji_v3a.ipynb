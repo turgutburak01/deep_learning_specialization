{
 "cells": [
  {
   "cell_type": "code",
   "execution_count": 1,
   "id": "18ba7d3d",
   "metadata": {
    "tags": []
   },
   "outputs": [],
   "source": [
    "import numpy as np\n",
    "from emo_utils import *\n",
    "import emoji\n",
    "import matplotlib.pyplot as plt\n",
    "\n",
    "%matplotlib inline"
   ]
  },
  {
   "cell_type": "markdown",
   "id": "b1cfd27f",
   "metadata": {},
   "source": [
    "## Emojifier-V1"
   ]
  },
  {
   "cell_type": "code",
   "execution_count": 2,
   "id": "9fe37f0e",
   "metadata": {
    "tags": []
   },
   "outputs": [],
   "source": [
    "X_train, Y_train = read_csv('data/train_emoji.csv')\n",
    "X_test, Y_test = read_csv('data/tesss.csv')"
   ]
  },
  {
   "cell_type": "code",
   "execution_count": 3,
   "id": "d9341ef7",
   "metadata": {
    "tags": []
   },
   "outputs": [],
   "source": [
    "maxLen = len(max(X_train, key=lambda x: len(x.split())).split())"
   ]
  },
  {
   "cell_type": "code",
   "execution_count": 4,
   "id": "7dc73f68",
   "metadata": {
    "tags": []
   },
   "outputs": [],
   "source": [
    "emoji_dictionary = {\"0\": \":heart:\",\n",
    "                    \"1\": \":baseball:\",\n",
    "                    \"2\": \":smile:\",\n",
    "                    \"3\": \":disappointed:\",\n",
    "                    \"4\": \":fork_and_knife:\"}\n",
    "\n",
    "def label_to_emoji(label):\n",
    "    return emoji.emojize(emoji_dictionary[str(label)], use_aliases=True)"
   ]
  },
  {
   "cell_type": "code",
   "execution_count": 5,
   "id": "4e5ee3b7",
   "metadata": {
    "tags": []
   },
   "outputs": [
    {
     "name": "stdout",
     "output_type": "stream",
     "text": [
      "never talk to me again 😞\n",
      "I am proud of your achievements 😄\n",
      "It is the worst day in my life 😞\n",
      "Miss you so much ❤\n",
      "food is life 🍴\n",
      "I love you mum ❤\n",
      "Stop saying bullshit 😞\n",
      "congratulations on your acceptance 😄\n",
      "The assignment is too long  😞\n",
      "I want to go play ⚾\n",
      "she did not answer my text  😞\n",
      "Your stupidity has no limit 😞\n",
      "how many points did he score ⚾\n",
      "my algorithm performs poorly 😞\n",
      "I got approved 😄\n"
     ]
    }
   ],
   "source": [
    "for idx in range(15):\n",
    "    print(X_train[idx], label_to_emoji(Y_train[idx]))"
   ]
  },
  {
   "cell_type": "markdown",
   "id": "cf647a76",
   "metadata": {},
   "source": [
    "<center>\n",
    "<img src=\"images/image_1.png\" style=\"width:900px;height:300px;\">\n",
    "    <caption><center><font color='purple'><b>Figure 2</b>: Baseline model (Emojifier-V1).</center></caption>\n",
    "</center></font>"
   ]
  },
  {
   "cell_type": "code",
   "execution_count": 6,
   "id": "02b3e730",
   "metadata": {
    "tags": []
   },
   "outputs": [],
   "source": [
    "Y_oh_train = convert_to_one_hot(Y_train, C = 5)\n",
    "Y_oh_test = convert_to_one_hot(Y_test, C = 5)"
   ]
  },
  {
   "cell_type": "code",
   "execution_count": 7,
   "id": "ee659977",
   "metadata": {
    "tags": []
   },
   "outputs": [
    {
     "name": "stdout",
     "output_type": "stream",
     "text": [
      "Sentence 'I missed you' has label index 0, which is emoji ❤\n",
      "Label index 0 in one-hot encoding format is [1. 0. 0. 0. 0.]\n"
     ]
    }
   ],
   "source": [
    "idx = 50\n",
    "print(f\"Sentence '{X_train[idx]}' has label index {Y_train[idx]}, which is emoji {label_to_emoji(Y_train[idx])}\")\n",
    "print(f\"Label index {Y_train[idx]} in one-hot encoding format is {Y_oh_train[idx]}\")"
   ]
  },
  {
   "cell_type": "code",
   "execution_count": 8,
   "id": "49e04748",
   "metadata": {
    "tags": []
   },
   "outputs": [],
   "source": [
    "def read_glove_vecs(glove_file):\n",
    "    with open(glove_file, 'r') as f:\n",
    "        words = set()\n",
    "        word_to_vec_map = {}\n",
    "        for line in f:\n",
    "            line = line.strip().split()\n",
    "            curr_word = line[0]\n",
    "            words.add(curr_word)\n",
    "            word_to_vec_map[curr_word] = np.array(line[1:], dtype=np.float64)\n",
    "            \n",
    "        i = 1\n",
    "        words_to_index = {}\n",
    "        index_to_words = {}\n",
    "        for w in sorted(words):\n",
    "            words_to_index[w] = i\n",
    "            index_to_words[i] = w\n",
    "            i = i + 1\n",
    "    return words_to_index, index_to_words, word_to_vec_map"
   ]
  },
  {
   "cell_type": "code",
   "execution_count": 9,
   "id": "a6a832e8",
   "metadata": {
    "tags": []
   },
   "outputs": [],
   "source": [
    "word_to_index, index_to_word, word_to_vec_map = read_glove_vecs('data/glove.6B.50d.txt')"
   ]
  },
  {
   "cell_type": "code",
   "execution_count": 10,
   "id": "7ed4b446",
   "metadata": {},
   "outputs": [
    {
     "name": "stdout",
     "output_type": "stream",
     "text": [
      "the index of cucumber in the vocabulary is 113317\n",
      "the 289846the word in the vocabulary is potatos\n"
     ]
    }
   ],
   "source": [
    "word = \"cucumber\"\n",
    "idx = 289846\n",
    "print(\"the index of\", word, \"in the vocabulary is\", word_to_index[word])\n",
    "print(\"the\", str(idx) + \"the word in the vocabulary is\", index_to_word[idx])"
   ]
  },
  {
   "cell_type": "code",
   "execution_count": 11,
   "id": "53e91a7a",
   "metadata": {},
   "outputs": [],
   "source": [
    "def sentence_to_avg(sentence, word_to_vec_map):\n",
    "    any_word = list(word_to_vec_map.keys())[0]\n",
    "    \n",
    "    words = sentence.lower().split()\n",
    "    \n",
    "    avg = np.zeros(word_to_vec_map[any_word].shape)\n",
    "    count = 0\n",
    "    \n",
    "    for w in words:\n",
    "        if w in word_to_vec_map:\n",
    "            avg += word_to_vec_map[w]\n",
    "            count += 1\n",
    "    \n",
    "    if count > 0:\n",
    "        avg = avg / count\n",
    "    \n",
    "    return avg"
   ]
  },
  {
   "cell_type": "markdown",
   "id": "c4bf1b4e",
   "metadata": {},
   "source": [
    "$$ z^{(i)} = Wavg^{(i)} + b$$\n",
    "\n",
    "$$ a^{(i)} = softmax(z^{(i)})$$\n",
    "\n",
    "$$ \\mathcal{L}^{(i)} = - \\sum_{k = 0}^{n_y - 1} Y_{oh,k}^{(i)} * log(a^{(i)}_k)$$\n"
   ]
  },
  {
   "cell_type": "code",
   "execution_count": 12,
   "id": "f05732d2",
   "metadata": {},
   "outputs": [],
   "source": [
    "def model(X, Y, word_to_vec_map, learning_rate = 0.01, num_iterations= 400):\n",
    "    any_word = list(word_to_vec_map.keys())[0]\n",
    "    \n",
    "    m = Y.shape[0]                             # number of training examples\n",
    "    n_y = len(np.unique(Y))                    # number of classes\n",
    "    n_h = word_to_vec_map[any_word].shape[0]   # dimensions of tje GloVe vectors\n",
    "    \n",
    "    # initialize parameters (Xavier initialization)\n",
    "    W = np.random.randn(n_y, n_h) / np.sqrt(n_h)\n",
    "    b = np.zeros((n_y,))\n",
    "    \n",
    "    Y_oh = convert_to_one_hot(Y, C= n_y)\n",
    "    \n",
    "    for t in range(num_iterations):\n",
    "        cost = 0\n",
    "        dW = 0\n",
    "        db = 0\n",
    "        \n",
    "        for i in range(m):\n",
    "            avg = sentence_to_avg(X[i], word_to_vec_map)\n",
    "            \n",
    "            z = np.dot(W, avg) + b\n",
    "            a = softmax(z)\n",
    "            \n",
    "            cost += -np.sum(Y_oh[i] * np.log(a))\n",
    "            \n",
    "            dz = a - Y_oh[i]\n",
    "            dW += np.dot(dz.reshape(n_y, 1), avg.reshape(1, n_h))\n",
    "            db += dz\n",
    "            \n",
    "            W = W - learning_rate * dW\n",
    "            b = b - learning_rate * db\n",
    "            \n",
    "        assert type(cost) == np.float64, 'Incorrect implementation of cost'\n",
    "        assert cost.shape == (), 'Incorrect implementation of cost'\n",
    "        \n",
    "        if t % 100 == 0:\n",
    "            print('Epoch: ' + str(t) + ' --- cost = ' + str(cost))\n",
    "            pred = predict(X, Y, W, b, word_to_vec_map)\n",
    "            \n",
    "    return pred, W, b"
   ]
  },
  {
   "cell_type": "code",
   "execution_count": 13,
   "id": "cd94a847",
   "metadata": {},
   "outputs": [
    {
     "name": "stdout",
     "output_type": "stream",
     "text": [
      "Epoch: 0 --- cost = 245.36465963418237\n",
      "Accuracy: 0.49242424242424243\n",
      "Epoch: 100 --- cost = 24.98631790445691\n",
      "Accuracy: 0.9545454545454546\n",
      "Epoch: 200 --- cost = 18.30363679712222\n",
      "Accuracy: 0.9696969696969697\n"
     ]
    }
   ],
   "source": [
    "np.random.seed(1)\n",
    "pred, W, b = model(X_train, Y_train, word_to_vec_map, learning_rate=0.001, num_iterations=300)"
   ]
  },
  {
   "cell_type": "code",
   "execution_count": 14,
   "id": "b8f235e6",
   "metadata": {},
   "outputs": [
    {
     "name": "stdout",
     "output_type": "stream",
     "text": [
      "[[3.]\n",
      " [2.]\n",
      " [3.]\n",
      " [0.]\n",
      " [4.]\n",
      " [0.]\n",
      " [3.]\n",
      " [2.]\n",
      " [3.]\n",
      " [1.]\n",
      " [3.]\n",
      " [3.]\n",
      " [1.]\n",
      " [3.]\n",
      " [2.]\n",
      " [3.]\n",
      " [2.]\n",
      " [3.]\n",
      " [1.]\n",
      " [2.]\n",
      " [3.]\n",
      " [0.]\n",
      " [2.]\n",
      " [2.]\n",
      " [2.]\n",
      " [1.]\n",
      " [4.]\n",
      " [3.]\n",
      " [2.]\n",
      " [4.]\n",
      " [0.]\n",
      " [3.]\n",
      " [4.]\n",
      " [2.]\n",
      " [0.]\n",
      " [3.]\n",
      " [2.]\n",
      " [2.]\n",
      " [3.]\n",
      " [4.]\n",
      " [2.]\n",
      " [2.]\n",
      " [0.]\n",
      " [2.]\n",
      " [3.]\n",
      " [0.]\n",
      " [3.]\n",
      " [2.]\n",
      " [4.]\n",
      " [3.]\n",
      " [0.]\n",
      " [3.]\n",
      " [3.]\n",
      " [3.]\n",
      " [4.]\n",
      " [2.]\n",
      " [1.]\n",
      " [1.]\n",
      " [1.]\n",
      " [2.]\n",
      " [3.]\n",
      " [1.]\n",
      " [0.]\n",
      " [0.]\n",
      " [0.]\n",
      " [3.]\n",
      " [4.]\n",
      " [4.]\n",
      " [2.]\n",
      " [2.]\n",
      " [1.]\n",
      " [2.]\n",
      " [0.]\n",
      " [3.]\n",
      " [2.]\n",
      " [2.]\n",
      " [0.]\n",
      " [0.]\n",
      " [3.]\n",
      " [1.]\n",
      " [2.]\n",
      " [1.]\n",
      " [2.]\n",
      " [2.]\n",
      " [4.]\n",
      " [3.]\n",
      " [3.]\n",
      " [2.]\n",
      " [4.]\n",
      " [0.]\n",
      " [0.]\n",
      " [2.]\n",
      " [3.]\n",
      " [3.]\n",
      " [3.]\n",
      " [2.]\n",
      " [0.]\n",
      " [1.]\n",
      " [2.]\n",
      " [3.]\n",
      " [0.]\n",
      " [2.]\n",
      " [2.]\n",
      " [2.]\n",
      " [3.]\n",
      " [2.]\n",
      " [2.]\n",
      " [3.]\n",
      " [4.]\n",
      " [1.]\n",
      " [1.]\n",
      " [3.]\n",
      " [3.]\n",
      " [4.]\n",
      " [1.]\n",
      " [2.]\n",
      " [1.]\n",
      " [1.]\n",
      " [2.]\n",
      " [1.]\n",
      " [0.]\n",
      " [4.]\n",
      " [0.]\n",
      " [3.]\n",
      " [3.]\n",
      " [4.]\n",
      " [4.]\n",
      " [1.]\n",
      " [4.]\n",
      " [3.]\n",
      " [0.]\n",
      " [2.]]\n"
     ]
    }
   ],
   "source": [
    "print(pred)"
   ]
  },
  {
   "cell_type": "code",
   "execution_count": 15,
   "id": "8f0f280a",
   "metadata": {},
   "outputs": [
    {
     "name": "stdout",
     "output_type": "stream",
     "text": [
      "Training set:\n",
      "Accuracy: 0.9696969696969697\n",
      "Test set:\n",
      "Accuracy: 0.8928571428571429\n"
     ]
    }
   ],
   "source": [
    "print('Training set:')\n",
    "pred_train = predict(X_train, Y_train, W, b, word_to_vec_map)\n",
    "print('Test set:')\n",
    "pred_test = predict(X_test, Y_test, W, b, word_to_vec_map)"
   ]
  },
  {
   "cell_type": "code",
   "execution_count": 16,
   "id": "c9dc56e1",
   "metadata": {},
   "outputs": [
    {
     "name": "stdout",
     "output_type": "stream",
     "text": [
      "Accuracy: 0.8333333333333334\n",
      "\n",
      "i treasure you ❤️\n",
      "i love you ❤️\n",
      "funny lol 😄\n",
      "lets play with a ball ⚾\n",
      "food is ready 🍴\n",
      "today is not good 😄\n"
     ]
    }
   ],
   "source": [
    "X_my_sentences = np.array(['i treasure you', 'i love you', 'funny lol', 'lets play with a ball', 'food is ready', 'today is not good'])\n",
    "Y_my_labels = np.array([[0], [0], [2], [1], [4], [3]])\n",
    "\n",
    "pred = predict(X_my_sentences, Y_my_labels, W, b, word_to_vec_map)\n",
    "print_predictions(X_my_sentences, pred)"
   ]
  },
  {
   "cell_type": "code",
   "execution_count": 17,
   "id": "1b92ddc4",
   "metadata": {},
   "outputs": [
    {
     "name": "stdout",
     "output_type": "stream",
     "text": [
      "(56,)\n",
      "           ❤    ⚾    😄    😞   🍴\n",
      "Predicted  0.0  1.0  2.0  3.0  4.0  All\n",
      "Actual                                 \n",
      "0            6    0    0    1    0    7\n",
      "1            0    8    0    0    0    8\n",
      "2            1    0   17    0    0   18\n",
      "3            1    1    2   12    0   16\n",
      "4            0    0    0    0    7    7\n",
      "All          8    9   19   13    7   56\n"
     ]
    },
    {
     "data": {
      "image/png": "[encoded data removed]",
      "text/plain": [
       "<Figure size 288x288 with 2 Axes>"
      ]
     },
     "metadata": {
      "needs_background": "light"
     },
     "output_type": "display_data"
    }
   ],
   "source": [
    "print(Y_test.shape)\n",
    "print('           '+ label_to_emoji(0)+ '    ' + label_to_emoji(1) + '    ' +  label_to_emoji(2)+ '    ' + label_to_emoji(3)+'   ' + label_to_emoji(4))\n",
    "print(pd.crosstab(Y_test, pred_test.reshape(56,), rownames=['Actual'], colnames=['Predicted'], margins=True))\n",
    "plot_confusion_matrix(Y_test, pred_test)"
   ]
  },
  {
   "cell_type": "markdown",
   "id": "00cf3988",
   "metadata": {},
   "source": [
    "## Emojifier-V2: Using LSTMs in Keras "
   ]
  },
  {
   "cell_type": "code",
   "execution_count": 18,
   "id": "e0e21110",
   "metadata": {},
   "outputs": [],
   "source": [
    "import numpy as np\n",
    "import tensorflow\n",
    "np.random.seed(0)\n",
    "from tensorflow.keras.models import Model\n",
    "from tensorflow.keras.layers import Dense, Input, Dropout, LSTM, Activation\n",
    "from tensorflow.keras.layers import Embedding\n",
    "from tensorflow.keras.preprocessing import sequence\n",
    "from tensorflow.keras.initializers import glorot_uniform\n",
    "np.random.seed(1)"
   ]
  },
  {
   "cell_type": "markdown",
   "id": "c4bde9ff",
   "metadata": {},
   "source": [
    "<img src=\"images/emojifier-v2.png\" style=\"width:700px;height:400px;\"> <br>\n",
    "<caption><center><font color='purple'><b>Figure 3</b>: Emojifier-V2. A 2-layer LSTM sequence classifier. </center></caption>"
   ]
  },
  {
   "cell_type": "markdown",
   "id": "bd562d11",
   "metadata": {},
   "source": [
    "<img src=\"images/embedding1.png\" style=\"width:700px;height:250px;\">\n",
    "<caption><center><font color='purple'><b>Figure 4</b>: Embedding layer</center></caption>"
   ]
  },
  {
   "cell_type": "code",
   "execution_count": 19,
   "id": "5c6d6185",
   "metadata": {},
   "outputs": [
    {
     "name": "stdout",
     "output_type": "stream",
     "text": [
      "0 I\n",
      "1 like\n",
      "2 learning\n"
     ]
    }
   ],
   "source": [
    "for idx, val in enumerate(['I', 'like', 'learning']):\n",
    "    print(idx, val)"
   ]
  },
  {
   "cell_type": "code",
   "execution_count": 20,
   "id": "048ca5f0",
   "metadata": {},
   "outputs": [],
   "source": [
    "def sentences_to_indices(X, word_to_index, max_len):\n",
    "    m = X.shape[0]\n",
    "    \n",
    "    X_indices = np.zeros((m, max_len))\n",
    "    \n",
    "    for i in range(m):\n",
    "        sentence_words = X[i].lower().split()\n",
    "        j = 0\n",
    "        \n",
    "        for w in sentence_words:\n",
    "            if w in word_to_index:\n",
    "                X_indices[i,j] = word_to_index[w]\n",
    "                j = j + 1\n",
    "                \n",
    "    return X_indices"
   ]
  },
  {
   "cell_type": "code",
   "execution_count": 21,
   "id": "4a36145b",
   "metadata": {},
   "outputs": [
    {
     "name": "stdout",
     "output_type": "stream",
     "text": [
      "X1 = ['funny lol' 'lets play basketball' 'food is read for you']\n",
      "X1_indices =\n",
      " [[155345. 225122.      0.      0.      0.]\n",
      " [220930. 286375.  69911.      0.      0.]\n",
      " [151204. 192973. 302207. 151349. 394475.]]\n"
     ]
    }
   ],
   "source": [
    "X1 = np.array(['funny lol', 'lets play basketball', 'food is read for you'])\n",
    "X1_indices = sentences_to_indices(X1, word_to_index, max_len=5)\n",
    "print('X1 =', X1)\n",
    "print('X1_indices =\\n', X1_indices)"
   ]
  },
  {
   "cell_type": "code",
   "execution_count": 22,
   "id": "db25e777",
   "metadata": {},
   "outputs": [],
   "source": [
    "def pretrained_embedding_layer(word_to_vec_map, word_to_index):\n",
    "    vocab_size = len(word_to_index) + 1\n",
    "    any_word = list(word_to_vec_map.keys())[0]\n",
    "    emb_dim = word_to_vec_map[any_word].shape[0]\n",
    "    \n",
    "    emb_matrix = np.zeros((vocab_size, emb_dim))\n",
    "    \n",
    "    for word, idx in word_to_index.items():\n",
    "        emb_matrix[idx, :] = word_to_vec_map[word]\n",
    "        \n",
    "    embedding_layer = Embedding(vocab_size, emb_dim, trainable=False)\n",
    "    \n",
    "    embedding_layer.build((None,))\n",
    "    \n",
    "    embedding_layer.set_weights([emb_matrix])\n",
    "    \n",
    "    return embedding_layer"
   ]
  },
  {
   "cell_type": "code",
   "execution_count": 23,
   "id": "c9bbd5de",
   "metadata": {},
   "outputs": [
    {
     "name": "stdout",
     "output_type": "stream",
     "text": [
      "weights[0][1][1] = 0.39031\n",
      "Input_dim 400001\n",
      "Output_dim 50\n"
     ]
    }
   ],
   "source": [
    "embedding_layer = pretrained_embedding_layer(word_to_vec_map, word_to_index)\n",
    "print(\"weights[0][1][1] =\", embedding_layer.get_weights()[0][1][1])\n",
    "print(\"Input_dim\", embedding_layer.input_dim)\n",
    "print(\"Output_dim\",embedding_layer.output_dim)"
   ]
  },
  {
   "cell_type": "code",
   "execution_count": 24,
   "id": "6d0bd7aa",
   "metadata": {},
   "outputs": [],
   "source": [
    "def Emojify_V2(input_shape, word_to_vec_map, word_to_index):\n",
    "    sentence_indices = Input(input_shape, dtype='int32')\n",
    "    \n",
    "    embedding_layer = pretrained_embedding_layer(word_to_vec_map, word_to_index)\n",
    "    \n",
    "    embeddings = embedding_layer(sentence_indices)\n",
    "    \n",
    "    X = LSTM(units = 128, return_sequences=True)(embeddings)\n",
    "    X = Dropout(0.5)(X)\n",
    "    X = LSTM(units = 128, return_sequences=False)(X)\n",
    "    X = Dropout(0.5)(X)\n",
    "    X = Dense(5)(X)\n",
    "    X = Activation('softmax')(X)\n",
    "    \n",
    "    model = Model(sentence_indices, X)\n",
    "    \n",
    "    return model"
   ]
  },
  {
   "cell_type": "code",
   "execution_count": 25,
   "id": "959a80c7",
   "metadata": {},
   "outputs": [
    {
     "name": "stdout",
     "output_type": "stream",
     "text": [
      "Model: \"functional_1\"\n",
      "_________________________________________________________________\n",
      "Layer (type)                 Output Shape              Param #   \n",
      "=================================================================\n",
      "input_1 (InputLayer)         [(None, 10)]              0         \n",
      "_________________________________________________________________\n",
      "embedding_1 (Embedding)      (None, 10, 50)            20000050  \n",
      "_________________________________________________________________\n",
      "lstm (LSTM)                  (None, 10, 128)           91648     \n",
      "_________________________________________________________________\n",
      "dropout (Dropout)            (None, 10, 128)           0         \n",
      "_________________________________________________________________\n",
      "lstm_1 (LSTM)                (None, 128)               131584    \n",
      "_________________________________________________________________\n",
      "dropout_1 (Dropout)          (None, 128)               0         \n",
      "_________________________________________________________________\n",
      "dense (Dense)                (None, 5)                 645       \n",
      "_________________________________________________________________\n",
      "activation (Activation)      (None, 5)                 0         \n",
      "=================================================================\n",
      "Total params: 20,223,927\n",
      "Trainable params: 223,877\n",
      "Non-trainable params: 20,000,050\n",
      "_________________________________________________________________\n"
     ]
    }
   ],
   "source": [
    "model = Emojify_V2((maxLen,), word_to_vec_map, word_to_index)\n",
    "model.summary()"
   ]
  },
  {
   "cell_type": "code",
   "execution_count": 26,
   "id": "ced5d6a9",
   "metadata": {},
   "outputs": [],
   "source": [
    "model.compile(loss='categorical_crossentropy', optimizer='adam', metrics=['accuracy'])"
   ]
  },
  {
   "cell_type": "code",
   "execution_count": 27,
   "id": "93e45422",
   "metadata": {},
   "outputs": [],
   "source": [
    "X_train_indices = sentences_to_indices(X_train, word_to_index, maxLen)\n",
    "Y_train_oh = convert_to_one_hot(Y_train, C= 5)"
   ]
  },
  {
   "cell_type": "code",
   "execution_count": 28,
   "id": "f574846d",
   "metadata": {},
   "outputs": [
    {
     "name": "stdout",
     "output_type": "stream",
     "text": [
      "Epoch 1/45\n",
      "5/5 [==============================] - 0s 33ms/step - loss: 1.5793 - accuracy: 0.2879\n",
      "Epoch 2/45\n",
      "5/5 [==============================] - 0s 38ms/step - loss: 1.4920 - accuracy: 0.3333\n",
      "Epoch 3/45\n",
      "5/5 [==============================] - 0s 22ms/step - loss: 1.4333 - accuracy: 0.3864\n",
      "Epoch 4/45\n",
      "5/5 [==============================] - 0s 22ms/step - loss: 1.3692 - accuracy: 0.4621\n",
      "Epoch 5/45\n",
      "5/5 [==============================] - 0s 34ms/step - loss: 1.2723 - accuracy: 0.5152\n",
      "Epoch 6/45\n",
      "5/5 [==============================] - 0s 22ms/step - loss: 1.2225 - accuracy: 0.4924\n",
      "Epoch 7/45\n",
      "5/5 [==============================] - 0s 23ms/step - loss: 1.0487 - accuracy: 0.6288\n",
      "Epoch 8/45\n",
      "5/5 [==============================] - 0s 21ms/step - loss: 1.0204 - accuracy: 0.6742\n",
      "Epoch 9/45\n",
      "5/5 [==============================] - 0s 23ms/step - loss: 0.9254 - accuracy: 0.6515\n",
      "Epoch 10/45\n",
      "5/5 [==============================] - 0s 34ms/step - loss: 0.8244 - accuracy: 0.6742\n",
      "Epoch 11/45\n",
      "5/5 [==============================] - 0s 22ms/step - loss: 0.6703 - accuracy: 0.7500\n",
      "Epoch 12/45\n",
      "5/5 [==============================] - 0s 34ms/step - loss: 0.6257 - accuracy: 0.7879\n",
      "Epoch 13/45\n",
      "5/5 [==============================] - 0s 21ms/step - loss: 0.5283 - accuracy: 0.8182\n",
      "Epoch 14/45\n",
      "5/5 [==============================] - 0s 23ms/step - loss: 0.4696 - accuracy: 0.8485\n",
      "Epoch 15/45\n",
      "5/5 [==============================] - 0s 34ms/step - loss: 0.4191 - accuracy: 0.8788\n",
      "Epoch 16/45\n",
      "5/5 [==============================] - 0s 22ms/step - loss: 0.4295 - accuracy: 0.8409\n",
      "Epoch 17/45\n",
      "5/5 [==============================] - 0s 22ms/step - loss: 0.3839 - accuracy: 0.8939\n",
      "Epoch 18/45\n",
      "5/5 [==============================] - 0s 21ms/step - loss: 0.4705 - accuracy: 0.8182\n",
      "Epoch 19/45\n",
      "5/5 [==============================] - 0s 22ms/step - loss: 0.3443 - accuracy: 0.8864\n",
      "Epoch 20/45\n",
      "5/5 [==============================] - 0s 22ms/step - loss: 0.2381 - accuracy: 0.9394\n",
      "Epoch 21/45\n",
      "5/5 [==============================] - 0s 23ms/step - loss: 0.3647 - accuracy: 0.8939\n",
      "Epoch 22/45\n",
      "5/5 [==============================] - 0s 34ms/step - loss: 0.2885 - accuracy: 0.9242\n",
      "Epoch 23/45\n",
      "5/5 [==============================] - 0s 21ms/step - loss: 0.3772 - accuracy: 0.8788\n",
      "Epoch 24/45\n",
      "5/5 [==============================] - 0s 22ms/step - loss: 0.3152 - accuracy: 0.8939\n",
      "Epoch 25/45\n",
      "5/5 [==============================] - 0s 22ms/step - loss: 0.2291 - accuracy: 0.9242\n",
      "Epoch 26/45\n",
      "5/5 [==============================] - 0s 22ms/step - loss: 0.1844 - accuracy: 0.9394\n",
      "Epoch 27/45\n",
      "5/5 [==============================] - 0s 34ms/step - loss: 0.1774 - accuracy: 0.9318\n",
      "Epoch 28/45\n",
      "5/5 [==============================] - 0s 22ms/step - loss: 0.1806 - accuracy: 0.9394\n",
      "Epoch 29/45\n",
      "5/5 [==============================] - 0s 33ms/step - loss: 0.1567 - accuracy: 0.9545\n",
      "Epoch 30/45\n",
      "5/5 [==============================] - 0s 21ms/step - loss: 0.2396 - accuracy: 0.8939\n",
      "Epoch 31/45\n",
      "5/5 [==============================] - 0s 22ms/step - loss: 0.1871 - accuracy: 0.9470\n",
      "Epoch 32/45\n",
      "5/5 [==============================] - 0s 21ms/step - loss: 0.2196 - accuracy: 0.9394\n",
      "Epoch 33/45\n",
      "5/5 [==============================] - 0s 23ms/step - loss: 0.3543 - accuracy: 0.8939\n",
      "Epoch 34/45\n",
      "5/5 [==============================] - 0s 22ms/step - loss: 0.3751 - accuracy: 0.8939\n",
      "Epoch 35/45\n",
      "5/5 [==============================] - 0s 23ms/step - loss: 0.2035 - accuracy: 0.9318\n",
      "Epoch 36/45\n",
      "5/5 [==============================] - 0s 34ms/step - loss: 0.2882 - accuracy: 0.8939\n",
      "Epoch 37/45\n",
      "5/5 [==============================] - 0s 21ms/step - loss: 0.1738 - accuracy: 0.9318\n",
      "Epoch 38/45\n",
      "5/5 [==============================] - 0s 22ms/step - loss: 0.2115 - accuracy: 0.9167\n",
      "Epoch 39/45\n",
      "5/5 [==============================] - 0s 21ms/step - loss: 0.1931 - accuracy: 0.9394\n",
      "Epoch 40/45\n",
      "5/5 [==============================] - 0s 22ms/step - loss: 0.1213 - accuracy: 0.9621\n",
      "Epoch 41/45\n",
      "5/5 [==============================] - 0s 22ms/step - loss: 0.1105 - accuracy: 0.9621\n",
      "Epoch 42/45\n",
      "5/5 [==============================] - 0s 23ms/step - loss: 0.0739 - accuracy: 0.9697\n",
      "Epoch 43/45\n",
      "5/5 [==============================] - 0s 21ms/step - loss: 0.0717 - accuracy: 0.9773\n",
      "Epoch 44/45\n",
      "5/5 [==============================] - 0s 23ms/step - loss: 0.0558 - accuracy: 0.9848\n",
      "Epoch 45/45\n",
      "5/5 [==============================] - 0s 33ms/step - loss: 0.0490 - accuracy: 0.9848\n"
     ]
    },
    {
     "data": {
      "text/plain": [
       "<tensorflow.python.keras.callbacks.History at 0x7f83fc7fead0>"
      ]
     },
     "execution_count": 28,
     "metadata": {},
     "output_type": "execute_result"
    }
   ],
   "source": [
    "model.fit(X_train_indices, Y_train_oh, epochs = 45, batch_size = 32, shuffle=True)"
   ]
  },
  {
   "cell_type": "code",
   "execution_count": 29,
   "id": "89615f04",
   "metadata": {},
   "outputs": [
    {
     "name": "stdout",
     "output_type": "stream",
     "text": [
      "2/2 [==============================] - 0s 3ms/step - loss: 0.4340 - accuracy: 0.8750\n",
      "\n",
      "Test accuracy =  0.875\n"
     ]
    }
   ],
   "source": [
    "X_test_indices = sentences_to_indices(X_test, word_to_index, max_len = maxLen)\n",
    "Y_test_oh = convert_to_one_hot(Y_test, C = 5)\n",
    "loss, acc = model.evaluate(X_test_indices, Y_test_oh)\n",
    "print()\n",
    "print('Test accuracy = ', acc)"
   ]
  },
  {
   "cell_type": "code",
   "execution_count": 30,
   "id": "301e4a61",
   "metadata": {},
   "outputs": [
    {
     "name": "stdout",
     "output_type": "stream",
     "text": [
      "Expected emoji:😞prediction: work is hard\t😄\n",
      "Expected emoji:😞prediction: This girl is messing with me\t❤\n",
      "Expected emoji:😞prediction: work is horrible\t😄\n",
      "Expected emoji:🍴prediction: any suggestions for dinner\t😄\n",
      "Expected emoji:😞prediction: she is a bully\t❤\n",
      "Expected emoji:😞prediction: My life is so boring\t❤\n",
      "Expected emoji:😄prediction: will you be my valentine\t😞\n"
     ]
    }
   ],
   "source": [
    "# mislabelled examples\n",
    "C = 5\n",
    "y_test_oh = np.eye(C)[Y_test.reshape(-1)]\n",
    "X_test_indices = sentences_to_indices(X_test, word_to_index, maxLen)\n",
    "pred = model.predict(X_test_indices)\n",
    "for i in range(len(X_test)):\n",
    "    x = X_test_indices\n",
    "    num = np.argmax(pred[i])\n",
    "    if(num != Y_test[i]):\n",
    "        print('Expected emoji:' + label_to_emoji(Y_test[i]) + 'prediction: ' + X_test[i] + label_to_emoji(num).strip())"
   ]
  },
  {
   "cell_type": "code",
   "execution_count": 42,
   "id": "f738c73d",
   "metadata": {},
   "outputs": [
    {
     "name": "stdout",
     "output_type": "stream",
     "text": [
      "I cannot play ⚾\n"
     ]
    }
   ],
   "source": [
    "x_test = np.array(['I cannot play'])\n",
    "X_test_indices = sentences_to_indices(x_test, word_to_index, maxLen)\n",
    "print(x_test[0] + ' ' + label_to_emoji(np.argmax(model.predict(X_test_indices))))"
   ]
  },
  {
   "cell_type": "code",
   "execution_count": null,
   "id": "f2ca7e82",
   "metadata": {},
   "outputs": [],
   "source": []
  }
 ],
 "metadata": {
  "kernelspec": {
   "display_name": "Python 3 (ipykernel)",
   "language": "python",
   "name": "python3"
  },
  "language_info": {
   "codemirror_mode": {
    "name": "ipython",
    "version": 3
   },
   "file_extension": ".py",
   "mimetype": "text/x-python",
   "name": "python",
   "nbconvert_exporter": "python",
   "pygments_lexer": "ipython3",
   "version": "3.11.4"
  }
 },
 "nbformat": 4,
 "nbformat_minor": 5
}
