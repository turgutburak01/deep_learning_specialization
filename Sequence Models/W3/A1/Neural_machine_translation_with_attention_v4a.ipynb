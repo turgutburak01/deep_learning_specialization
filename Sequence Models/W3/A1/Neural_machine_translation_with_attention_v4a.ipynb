{
 "cells": [
  {
   "cell_type": "code",
   "execution_count": 1,
   "id": "6f0d0ba6-8971-45e0-bf0f-a372bc9fb089",
   "metadata": {},
   "outputs": [],
   "source": [
    "from tensorflow.keras.layers import Bidirectional, Concatenate, Permute, Dot, Input, LSTM, Multiply\n",
    "from tensorflow.keras.layers import RepeatVector, Dense, Activation, Lambda\n",
    "from tensorflow.keras.optimizers.legacy import Adam\n",
    "from tensorflow.keras.utils import to_categorical\n",
    "from tensorflow.keras.models import load_model, Model\n",
    "import tensorflow.keras.backend as K\n",
    "import tensorflow as tf\n",
    "import numpy as np\n",
    "\n",
    "from faker import Faker\n",
    "import random\n",
    "from tqdm import tqdm\n",
    "from babel.dates import format_date\n",
    "from nmt_utils import *\n",
    "import matplotlib.pyplot as plt\n",
    "%matplotlib inline"
   ]
  },
  {
   "cell_type": "code",
   "execution_count": 2,
   "id": "40500f47",
   "metadata": {},
   "outputs": [
    {
     "name": "stderr",
     "output_type": "stream",
     "text": [
      "100%|█████████████████████████████████████████████████████████████████████████| 10000/10000 [00:00<00:00, 22386.85it/s]\n"
     ]
    }
   ],
   "source": [
    "m = 10000\n",
    "dataset, human_vocab, machine_vocab, inv_machine_vocab = load_dataset(m)"
   ]
  },
  {
   "cell_type": "code",
   "execution_count": 3,
   "id": "e571b31b",
   "metadata": {},
   "outputs": [
    {
     "data": {
      "text/plain": [
       "[('9 may 1998', '1998-05-09'),\n",
       " ('10.11.19', '2019-11-10'),\n",
       " ('9/10/70', '1970-09-10'),\n",
       " ('saturday april 28 1990', '1990-04-28'),\n",
       " ('thursday january 26 1995', '1995-01-26'),\n",
       " ('monday march 7 1983', '1983-03-07'),\n",
       " ('sunday may 22 1988', '1988-05-22'),\n",
       " ('08 jul 2008', '2008-07-08'),\n",
       " ('8 sep 1999', '1999-09-08'),\n",
       " ('thursday january 1 1981', '1981-01-01')]"
      ]
     },
     "execution_count": 3,
     "metadata": {},
     "output_type": "execute_result"
    }
   ],
   "source": [
    "dataset[:10]"
   ]
  },
  {
   "cell_type": "code",
   "execution_count": 4,
   "id": "62b1b866",
   "metadata": {},
   "outputs": [
    {
     "name": "stdout",
     "output_type": "stream",
     "text": [
      "X.shape: (10000, 30)\n",
      "Y.shape: (10000, 10)\n",
      "Xoh.shape: (10000, 30, 37)\n",
      "Yoh.shape: (10000, 10, 11)\n"
     ]
    }
   ],
   "source": [
    "Tx = 30\n",
    "Ty = 10\n",
    "X, Y, Xoh, Yoh = preprocess_data(dataset, human_vocab, machine_vocab, Tx, Ty)\n",
    "\n",
    "print(\"X.shape:\", X.shape)\n",
    "print(\"Y.shape:\", Y.shape)\n",
    "print(\"Xoh.shape:\", Xoh.shape)\n",
    "print(\"Yoh.shape:\", Yoh.shape)"
   ]
  },
  {
   "cell_type": "code",
   "execution_count": 5,
   "id": "0874441f",
   "metadata": {},
   "outputs": [
    {
     "name": "stdout",
     "output_type": "stream",
     "text": [
      "Source date: 9 may 1998\n",
      "Target date: 1998-05-09\n",
      "\n",
      "Source after preprocessing (indices): [12  0 24 13 34  0  4 12 12 11 36 36 36 36 36 36 36 36 36 36 36 36 36 36\n",
      " 36 36 36 36 36 36]\n",
      "Target after preprocessing (indices): [ 2 10 10  9  0  1  6  0  1 10]\n",
      "\n",
      "Source after preprocessing (one-hot): [[0. 0. 0. ... 0. 0. 0.]\n",
      " [1. 0. 0. ... 0. 0. 0.]\n",
      " [0. 0. 0. ... 0. 0. 0.]\n",
      " ...\n",
      " [0. 0. 0. ... 0. 0. 1.]\n",
      " [0. 0. 0. ... 0. 0. 1.]\n",
      " [0. 0. 0. ... 0. 0. 1.]]\n",
      "Target after preprocessing (one-hot): [[0. 0. 1. 0. 0. 0. 0. 0. 0. 0. 0.]\n",
      " [0. 0. 0. 0. 0. 0. 0. 0. 0. 0. 1.]\n",
      " [0. 0. 0. 0. 0. 0. 0. 0. 0. 0. 1.]\n",
      " [0. 0. 0. 0. 0. 0. 0. 0. 0. 1. 0.]\n",
      " [1. 0. 0. 0. 0. 0. 0. 0. 0. 0. 0.]\n",
      " [0. 1. 0. 0. 0. 0. 0. 0. 0. 0. 0.]\n",
      " [0. 0. 0. 0. 0. 0. 1. 0. 0. 0. 0.]\n",
      " [1. 0. 0. 0. 0. 0. 0. 0. 0. 0. 0.]\n",
      " [0. 1. 0. 0. 0. 0. 0. 0. 0. 0. 0.]\n",
      " [0. 0. 0. 0. 0. 0. 0. 0. 0. 0. 1.]]\n"
     ]
    }
   ],
   "source": [
    "index = 0\n",
    "print(\"Source date:\", dataset[index][0])\n",
    "print(\"Target date:\", dataset[index][1])\n",
    "print()\n",
    "print(\"Source after preprocessing (indices):\", X[index])\n",
    "print(\"Target after preprocessing (indices):\", Y[index])\n",
    "print()\n",
    "print(\"Source after preprocessing (one-hot):\", Xoh[index])\n",
    "print(\"Target after preprocessing (one-hot):\", Yoh[index])"
   ]
  },
  {
   "cell_type": "markdown",
   "id": "c7d0c3af",
   "metadata": {},
   "source": [
    "<table>\n",
    "<td> \n",
    "<img src=\"images/attn_model.png\" style=\"width:500;height:500px;\"> <br>\n",
    "</td> \n",
    "<td> \n",
    "<img src=\"images/attn_mechanism.png\" style=\"width:500;height:500px;\"> <br>\n",
    "</td> \n",
    "</table>\n",
    "<caption><center> **Figure 1**: Neural machine translation with attention</center></caption>"
   ]
  },
  {
   "cell_type": "code",
   "execution_count": 6,
   "id": "414acfc8",
   "metadata": {},
   "outputs": [],
   "source": [
    "repeator = RepeatVector(Tx)\n",
    "concatenator = Concatenate(axis= -1)\n",
    "densor1 = Dense(10, activation= 'tanh')\n",
    "densor2 = Dense(1, activation= 'relu')\n",
    "activator = Activation(softmax, name= 'attention_weights') # custom softmax(axis = 1)\n",
    "dotor = Dot(axes= 1)"
   ]
  },
  {
   "cell_type": "code",
   "execution_count": 7,
   "id": "0af932b7",
   "metadata": {},
   "outputs": [],
   "source": [
    "def one_step_attention(a, s_prev):\n",
    "    s_prev = repeator(s_prev)\n",
    "    concat = concatenator([a, s_prev])\n",
    "    e = densor1(concat)\n",
    "    energies = densor2(e)\n",
    "    alphas = activator(energies)\n",
    "    context = dotor([alphas, a])\n",
    "    \n",
    "    return context"
   ]
  },
  {
   "cell_type": "code",
   "execution_count": 8,
   "id": "62df7ef2",
   "metadata": {},
   "outputs": [],
   "source": [
    "n_a = 32 # number of units for the pre-attention, bi-directional LSTM's hidden state 'a'\n",
    "n_s = 64 # number of units for the post-attention LSTM's hidden state 's'\n",
    "\n",
    "# global variable\n",
    "post_activation_LSTM_cell = LSTM(n_s, return_state= True)\n",
    "output_layer = Dense(len(machine_vocab), activation=softmax)"
   ]
  },
  {
   "cell_type": "code",
   "execution_count": 9,
   "id": "26552a8c",
   "metadata": {},
   "outputs": [],
   "source": [
    "def modelf(Tx, Ty, n_a, n_s, human_vocab_size, machine_vocab_size):\n",
    "    X = Input(shape=(Tx, human_vocab_size))\n",
    "    s0 = Input(shape=(n_s,), name='s0')\n",
    "    c0 = Input(shape=(n_s,), name='c0')\n",
    "    s = s0\n",
    "    c = c0\n",
    "    \n",
    "    outputs = []\n",
    "    \n",
    "    a = Bidirectional(LSTM(n_a, return_sequences= True))(X)\n",
    "    \n",
    "    for t in range(Ty):\n",
    "        context = one_step_attention(a, s)\n",
    "        _, s, c, = post_activation_LSTM_cell(context, initial_state=[s, c])\n",
    "        out = output_layer(s)\n",
    "        outputs.append(out)\n",
    "        \n",
    "    model = Model(inputs= [X, s0, c0], outputs=outputs)\n",
    "    \n",
    "    return model"
   ]
  },
  {
   "cell_type": "code",
   "execution_count": 10,
   "id": "61e7f662",
   "metadata": {},
   "outputs": [],
   "source": [
    "model = modelf(Tx, Ty, n_a, n_s, len(human_vocab), len(machine_vocab))"
   ]
  },
  {
   "cell_type": "code",
   "execution_count": 11,
   "id": "339c44f0",
   "metadata": {},
   "outputs": [
    {
     "name": "stdout",
     "output_type": "stream",
     "text": [
      "Model: \"model\"\n",
      "__________________________________________________________________________________________________\n",
      " Layer (type)                Output Shape                 Param #   Connected to                  \n",
      "==================================================================================================\n",
      " input_1 (InputLayer)        [(None, 30, 37)]             0         []                            \n",
      "                                                                                                  \n",
      " s0 (InputLayer)             [(None, 64)]                 0         []                            \n",
      "                                                                                                  \n",
      " bidirectional (Bidirection  (None, 30, 64)               17920     ['input_1[0][0]']             \n",
      " al)                                                                                              \n",
      "                                                                                                  \n",
      " repeat_vector (RepeatVecto  (None, 30, 64)               0         ['s0[0][0]',                  \n",
      " r)                                                                  'lstm[0][1]',                \n",
      "                                                                     'lstm[1][1]',                \n",
      "                                                                     'lstm[2][1]',                \n",
      "                                                                     'lstm[3][1]',                \n",
      "                                                                     'lstm[4][1]',                \n",
      "                                                                     'lstm[5][1]',                \n",
      "                                                                     'lstm[6][1]',                \n",
      "                                                                     'lstm[7][1]',                \n",
      "                                                                     'lstm[8][1]']                \n",
      "                                                                                                  \n",
      " concatenate (Concatenate)   (None, 30, 128)              0         ['bidirectional[0][0]',       \n",
      "                                                                     'repeat_vector[0][0]',       \n",
      "                                                                     'bidirectional[0][0]',       \n",
      "                                                                     'repeat_vector[1][0]',       \n",
      "                                                                     'bidirectional[0][0]',       \n",
      "                                                                     'repeat_vector[2][0]',       \n",
      "                                                                     'bidirectional[0][0]',       \n",
      "                                                                     'repeat_vector[3][0]',       \n",
      "                                                                     'bidirectional[0][0]',       \n",
      "                                                                     'repeat_vector[4][0]',       \n",
      "                                                                     'bidirectional[0][0]',       \n",
      "                                                                     'repeat_vector[5][0]',       \n",
      "                                                                     'bidirectional[0][0]',       \n",
      "                                                                     'repeat_vector[6][0]',       \n",
      "                                                                     'bidirectional[0][0]',       \n",
      "                                                                     'repeat_vector[7][0]',       \n",
      "                                                                     'bidirectional[0][0]',       \n",
      "                                                                     'repeat_vector[8][0]',       \n",
      "                                                                     'bidirectional[0][0]',       \n",
      "                                                                     'repeat_vector[9][0]']       \n",
      "                                                                                                  \n",
      " dense (Dense)               (None, 30, 10)               1290      ['concatenate[0][0]',         \n",
      "                                                                     'concatenate[1][0]',         \n",
      "                                                                     'concatenate[2][0]',         \n",
      "                                                                     'concatenate[3][0]',         \n",
      "                                                                     'concatenate[4][0]',         \n",
      "                                                                     'concatenate[5][0]',         \n",
      "                                                                     'concatenate[6][0]',         \n",
      "                                                                     'concatenate[7][0]',         \n",
      "                                                                     'concatenate[8][0]',         \n",
      "                                                                     'concatenate[9][0]']         \n",
      "                                                                                                  \n",
      " dense_1 (Dense)             (None, 30, 1)                11        ['dense[0][0]',               \n",
      "                                                                     'dense[1][0]',               \n",
      "                                                                     'dense[2][0]',               \n",
      "                                                                     'dense[3][0]',               \n",
      "                                                                     'dense[4][0]',               \n",
      "                                                                     'dense[5][0]',               \n",
      "                                                                     'dense[6][0]',               \n",
      "                                                                     'dense[7][0]',               \n",
      "                                                                     'dense[8][0]',               \n",
      "                                                                     'dense[9][0]']               \n",
      "                                                                                                  \n",
      " attention_weights (Activat  (None, 30, 1)                0         ['dense_1[0][0]',             \n",
      " ion)                                                                'dense_1[1][0]',             \n",
      "                                                                     'dense_1[2][0]',             \n",
      "                                                                     'dense_1[3][0]',             \n",
      "                                                                     'dense_1[4][0]',             \n",
      "                                                                     'dense_1[5][0]',             \n",
      "                                                                     'dense_1[6][0]',             \n",
      "                                                                     'dense_1[7][0]',             \n",
      "                                                                     'dense_1[8][0]',             \n",
      "                                                                     'dense_1[9][0]']             \n",
      "                                                                                                  \n",
      " dot (Dot)                   (None, 1, 64)                0         ['attention_weights[0][0]',   \n",
      "                                                                     'bidirectional[0][0]',       \n",
      "                                                                     'attention_weights[1][0]',   \n",
      "                                                                     'bidirectional[0][0]',       \n",
      "                                                                     'attention_weights[2][0]',   \n",
      "                                                                     'bidirectional[0][0]',       \n",
      "                                                                     'attention_weights[3][0]',   \n",
      "                                                                     'bidirectional[0][0]',       \n"
     ]
    },
    {
     "name": "stdout",
     "output_type": "stream",
     "text": [
      "                                                                     'attention_weights[4][0]',   \n",
      "                                                                     'bidirectional[0][0]',       \n",
      "                                                                     'attention_weights[5][0]',   \n",
      "                                                                     'bidirectional[0][0]',       \n",
      "                                                                     'attention_weights[6][0]',   \n",
      "                                                                     'bidirectional[0][0]',       \n",
      "                                                                     'attention_weights[7][0]',   \n",
      "                                                                     'bidirectional[0][0]',       \n",
      "                                                                     'attention_weights[8][0]',   \n",
      "                                                                     'bidirectional[0][0]',       \n",
      "                                                                     'attention_weights[9][0]',   \n",
      "                                                                     'bidirectional[0][0]']       \n",
      "                                                                                                  \n",
      " c0 (InputLayer)             [(None, 64)]                 0         []                            \n",
      "                                                                                                  \n",
      " lstm (LSTM)                 [(None, 64),                 33024     ['dot[0][0]',                 \n",
      "                              (None, 64),                            's0[0][0]',                  \n",
      "                              (None, 64)]                            'c0[0][0]',                  \n",
      "                                                                     'dot[1][0]',                 \n",
      "                                                                     'lstm[0][1]',                \n",
      "                                                                     'lstm[0][2]',                \n",
      "                                                                     'dot[2][0]',                 \n",
      "                                                                     'lstm[1][1]',                \n",
      "                                                                     'lstm[1][2]',                \n",
      "                                                                     'dot[3][0]',                 \n",
      "                                                                     'lstm[2][1]',                \n",
      "                                                                     'lstm[2][2]',                \n",
      "                                                                     'dot[4][0]',                 \n",
      "                                                                     'lstm[3][1]',                \n",
      "                                                                     'lstm[3][2]',                \n",
      "                                                                     'dot[5][0]',                 \n",
      "                                                                     'lstm[4][1]',                \n",
      "                                                                     'lstm[4][2]',                \n",
      "                                                                     'dot[6][0]',                 \n",
      "                                                                     'lstm[5][1]',                \n",
      "                                                                     'lstm[5][2]',                \n",
      "                                                                     'dot[7][0]',                 \n",
      "                                                                     'lstm[6][1]',                \n",
      "                                                                     'lstm[6][2]',                \n",
      "                                                                     'dot[8][0]',                 \n",
      "                                                                     'lstm[7][1]',                \n",
      "                                                                     'lstm[7][2]',                \n",
      "                                                                     'dot[9][0]',                 \n",
      "                                                                     'lstm[8][1]',                \n",
      "                                                                     'lstm[8][2]']                \n",
      "                                                                                                  \n",
      " dense_2 (Dense)             (None, 11)                   715       ['lstm[0][1]',                \n",
      "                                                                     'lstm[1][1]',                \n",
      "                                                                     'lstm[2][1]',                \n",
      "                                                                     'lstm[3][1]',                \n",
      "                                                                     'lstm[4][1]',                \n",
      "                                                                     'lstm[5][1]',                \n",
      "                                                                     'lstm[6][1]',                \n",
      "                                                                     'lstm[7][1]',                \n",
      "                                                                     'lstm[8][1]',                \n",
      "                                                                     'lstm[9][1]']                \n",
      "                                                                                                  \n",
      "==================================================================================================\n",
      "Total params: 52960 (206.88 KB)\n",
      "Trainable params: 52960 (206.88 KB)\n",
      "Non-trainable params: 0 (0.00 Byte)\n",
      "__________________________________________________________________________________________________\n"
     ]
    }
   ],
   "source": [
    "model.summary()"
   ]
  },
  {
   "cell_type": "code",
   "execution_count": 12,
   "id": "18ae0cb9",
   "metadata": {},
   "outputs": [],
   "source": [
    "opt = Adam(learning_rate=0.005, beta_1= 0.9, beta_2= 0.999, decay= 0.01)\n",
    "model.compile(loss= 'categorical_crossentropy', optimizer= opt, metrics= ['accuracy'])"
   ]
  },
  {
   "cell_type": "code",
   "execution_count": 13,
   "id": "e37d272c",
   "metadata": {},
   "outputs": [],
   "source": [
    "s0 = np.zeros((m, n_s))\n",
    "c0 = np.zeros((m, n_s))\n",
    "outputs = list(Yoh.swapaxes(0,1))"
   ]
  },
  {
   "cell_type": "code",
   "execution_count": 14,
   "id": "859a2064",
   "metadata": {},
   "outputs": [
    {
     "name": "stdout",
     "output_type": "stream",
     "text": [
      "Epoch 1/15\n",
      "100/100 [==============================] - 37s 63ms/step - loss: 16.8228 - dense_2_loss: 1.1971 - dense_2_1_loss: 0.9871 - dense_2_2_loss: 1.7948 - dense_2_3_loss: 2.6734 - dense_2_4_loss: 0.7814 - dense_2_5_loss: 1.3516 - dense_2_6_loss: 2.6826 - dense_2_7_loss: 1.0133 - dense_2_8_loss: 1.7234 - dense_2_9_loss: 2.6182 - dense_2_accuracy: 0.5054 - dense_2_1_accuracy: 0.7021 - dense_2_2_accuracy: 0.2867 - dense_2_3_accuracy: 0.0947 - dense_2_4_accuracy: 0.9144 - dense_2_5_accuracy: 0.3090 - dense_2_6_accuracy: 0.0530 - dense_2_7_accuracy: 0.8629 - dense_2_8_accuracy: 0.2284 - dense_2_9_accuracy: 0.0910\n",
      "Epoch 2/15\n",
      "100/100 [==============================] - 7s 67ms/step - loss: 9.3310 - dense_2_loss: 0.1726 - dense_2_1_loss: 0.1341 - dense_2_2_loss: 1.1145 - dense_2_3_loss: 2.2070 - dense_2_4_loss: 0.0201 - dense_2_5_loss: 0.3547 - dense_2_6_loss: 1.9893 - dense_2_7_loss: 0.0193 - dense_2_8_loss: 1.0912 - dense_2_9_loss: 2.2284 - dense_2_accuracy: 0.9597 - dense_2_1_accuracy: 0.9630 - dense_2_2_accuracy: 0.4897 - dense_2_3_accuracy: 0.1816 - dense_2_4_accuracy: 1.0000 - dense_2_5_accuracy: 0.8891 - dense_2_6_accuracy: 0.2919 - dense_2_7_accuracy: 1.0000 - dense_2_8_accuracy: 0.5358 - dense_2_9_accuracy: 0.1680\n",
      "Epoch 3/15\n",
      "100/100 [==============================] - 7s 70ms/step - loss: 7.8945 - dense_2_loss: 0.0945 - dense_2_1_loss: 0.0810 - dense_2_2_loss: 0.9225 - dense_2_3_loss: 1.9094 - dense_2_4_loss: 0.0156 - dense_2_5_loss: 0.1963 - dense_2_6_loss: 1.7476 - dense_2_7_loss: 0.0102 - dense_2_8_loss: 0.8550 - dense_2_9_loss: 2.0624 - dense_2_accuracy: 0.9732 - dense_2_1_accuracy: 0.9761 - dense_2_2_accuracy: 0.6068 - dense_2_3_accuracy: 0.3143 - dense_2_4_accuracy: 0.9999 - dense_2_5_accuracy: 0.9498 - dense_2_6_accuracy: 0.3621 - dense_2_7_accuracy: 1.0000 - dense_2_8_accuracy: 0.6494 - dense_2_9_accuracy: 0.2523\n",
      "Epoch 4/15\n",
      "100/100 [==============================] - 7s 71ms/step - loss: 6.9534 - dense_2_loss: 0.0758 - dense_2_1_loss: 0.0611 - dense_2_2_loss: 0.8289 - dense_2_3_loss: 1.6254 - dense_2_4_loss: 0.0119 - dense_2_5_loss: 0.1387 - dense_2_6_loss: 1.6138 - dense_2_7_loss: 0.0110 - dense_2_8_loss: 0.7431 - dense_2_9_loss: 1.8437 - dense_2_accuracy: 0.9787 - dense_2_1_accuracy: 0.9806 - dense_2_2_accuracy: 0.6344 - dense_2_3_accuracy: 0.4211 - dense_2_4_accuracy: 1.0000 - dense_2_5_accuracy: 0.9622 - dense_2_6_accuracy: 0.4057 - dense_2_7_accuracy: 0.9998 - dense_2_8_accuracy: 0.6893 - dense_2_9_accuracy: 0.3211\n",
      "Epoch 5/15\n",
      "100/100 [==============================] - 7s 69ms/step - loss: 6.2277 - dense_2_loss: 0.0651 - dense_2_1_loss: 0.0499 - dense_2_2_loss: 0.7627 - dense_2_3_loss: 1.3887 - dense_2_4_loss: 0.0096 - dense_2_5_loss: 0.1163 - dense_2_6_loss: 1.4879 - dense_2_7_loss: 0.0110 - dense_2_8_loss: 0.6759 - dense_2_9_loss: 1.6604 - dense_2_accuracy: 0.9810 - dense_2_1_accuracy: 0.9852 - dense_2_2_accuracy: 0.6843 - dense_2_3_accuracy: 0.5311 - dense_2_4_accuracy: 0.9999 - dense_2_5_accuracy: 0.9686 - dense_2_6_accuracy: 0.4738 - dense_2_7_accuracy: 0.9997 - dense_2_8_accuracy: 0.7227 - dense_2_9_accuracy: 0.3822\n",
      "Epoch 6/15\n",
      "100/100 [==============================] - 7s 69ms/step - loss: 5.5389 - dense_2_loss: 0.0560 - dense_2_1_loss: 0.0430 - dense_2_2_loss: 0.6631 - dense_2_3_loss: 1.1510 - dense_2_4_loss: 0.0081 - dense_2_5_loss: 0.1106 - dense_2_6_loss: 1.3332 - dense_2_7_loss: 0.0105 - dense_2_8_loss: 0.6331 - dense_2_9_loss: 1.5304 - dense_2_accuracy: 0.9835 - dense_2_1_accuracy: 0.9874 - dense_2_2_accuracy: 0.7485 - dense_2_3_accuracy: 0.6472 - dense_2_4_accuracy: 1.0000 - dense_2_5_accuracy: 0.9707 - dense_2_6_accuracy: 0.5451 - dense_2_7_accuracy: 0.9997 - dense_2_8_accuracy: 0.7407 - dense_2_9_accuracy: 0.4260\n",
      "Epoch 7/15\n",
      "100/100 [==============================] - 7s 72ms/step - loss: 4.8705 - dense_2_loss: 0.0482 - dense_2_1_loss: 0.0347 - dense_2_2_loss: 0.5337 - dense_2_3_loss: 0.9402 - dense_2_4_loss: 0.0070 - dense_2_5_loss: 0.1041 - dense_2_6_loss: 1.1997 - dense_2_7_loss: 0.0098 - dense_2_8_loss: 0.5853 - dense_2_9_loss: 1.4079 - dense_2_accuracy: 0.9872 - dense_2_1_accuracy: 0.9906 - dense_2_2_accuracy: 0.8084 - dense_2_3_accuracy: 0.7397 - dense_2_4_accuracy: 1.0000 - dense_2_5_accuracy: 0.9730 - dense_2_6_accuracy: 0.5936 - dense_2_7_accuracy: 0.9998 - dense_2_8_accuracy: 0.7708 - dense_2_9_accuracy: 0.4664\n",
      "Epoch 8/15\n",
      "100/100 [==============================] - 7s 70ms/step - loss: 4.3315 - dense_2_loss: 0.0414 - dense_2_1_loss: 0.0274 - dense_2_2_loss: 0.4326 - dense_2_3_loss: 0.7874 - dense_2_4_loss: 0.0061 - dense_2_5_loss: 0.0977 - dense_2_6_loss: 1.0888 - dense_2_7_loss: 0.0089 - dense_2_8_loss: 0.5447 - dense_2_9_loss: 1.2963 - dense_2_accuracy: 0.9894 - dense_2_1_accuracy: 0.9931 - dense_2_2_accuracy: 0.8405 - dense_2_3_accuracy: 0.7963 - dense_2_4_accuracy: 1.0000 - dense_2_5_accuracy: 0.9735 - dense_2_6_accuracy: 0.6286 - dense_2_7_accuracy: 0.9999 - dense_2_8_accuracy: 0.7904 - dense_2_9_accuracy: 0.5108\n",
      "Epoch 9/15\n",
      "100/100 [==============================] - 7s 70ms/step - loss: 3.8891 - dense_2_loss: 0.0359 - dense_2_1_loss: 0.0223 - dense_2_2_loss: 0.3664 - dense_2_3_loss: 0.6706 - dense_2_4_loss: 0.0056 - dense_2_5_loss: 0.0939 - dense_2_6_loss: 0.9919 - dense_2_7_loss: 0.0079 - dense_2_8_loss: 0.5109 - dense_2_9_loss: 1.1836 - dense_2_accuracy: 0.9913 - dense_2_1_accuracy: 0.9951 - dense_2_2_accuracy: 0.8587 - dense_2_3_accuracy: 0.8352 - dense_2_4_accuracy: 0.9999 - dense_2_5_accuracy: 0.9752 - dense_2_6_accuracy: 0.6694 - dense_2_7_accuracy: 1.0000 - dense_2_8_accuracy: 0.8121 - dense_2_9_accuracy: 0.5577\n",
      "Epoch 10/15\n",
      "100/100 [==============================] - 7s 71ms/step - loss: 3.5126 - dense_2_loss: 0.0310 - dense_2_1_loss: 0.0185 - dense_2_2_loss: 0.3234 - dense_2_3_loss: 0.5743 - dense_2_4_loss: 0.0052 - dense_2_5_loss: 0.0903 - dense_2_6_loss: 0.9014 - dense_2_7_loss: 0.0072 - dense_2_8_loss: 0.4898 - dense_2_9_loss: 1.0713 - dense_2_accuracy: 0.9928 - dense_2_1_accuracy: 0.9971 - dense_2_2_accuracy: 0.8701 - dense_2_3_accuracy: 0.8627 - dense_2_4_accuracy: 1.0000 - dense_2_5_accuracy: 0.9773 - dense_2_6_accuracy: 0.7095 - dense_2_7_accuracy: 1.0000 - dense_2_8_accuracy: 0.8219 - dense_2_9_accuracy: 0.6104\n",
      "Epoch 11/15\n",
      "100/100 [==============================] - 7s 70ms/step - loss: 3.2159 - dense_2_loss: 0.0276 - dense_2_1_loss: 0.0157 - dense_2_2_loss: 0.2945 - dense_2_3_loss: 0.5011 - dense_2_4_loss: 0.0050 - dense_2_5_loss: 0.0889 - dense_2_6_loss: 0.8295 - dense_2_7_loss: 0.0075 - dense_2_8_loss: 0.4695 - dense_2_9_loss: 0.9766 - dense_2_accuracy: 0.9947 - dense_2_1_accuracy: 0.9979 - dense_2_2_accuracy: 0.8795 - dense_2_3_accuracy: 0.8817 - dense_2_4_accuracy: 1.0000 - dense_2_5_accuracy: 0.9756 - dense_2_6_accuracy: 0.7424 - dense_2_7_accuracy: 1.0000 - dense_2_8_accuracy: 0.8349 - dense_2_9_accuracy: 0.6518\n",
      "Epoch 12/15\n",
      "100/100 [==============================] - 7s 70ms/step - loss: 2.9476 - dense_2_loss: 0.0247 - dense_2_1_loss: 0.0135 - dense_2_2_loss: 0.2711 - dense_2_3_loss: 0.4452 - dense_2_4_loss: 0.0046 - dense_2_5_loss: 0.0814 - dense_2_6_loss: 0.7586 - dense_2_7_loss: 0.0072 - dense_2_8_loss: 0.4498 - dense_2_9_loss: 0.8916 - dense_2_accuracy: 0.9954 - dense_2_1_accuracy: 0.9987 - dense_2_2_accuracy: 0.8867 - dense_2_3_accuracy: 0.8966 - dense_2_4_accuracy: 1.0000 - dense_2_5_accuracy: 0.9787 - dense_2_6_accuracy: 0.7685 - dense_2_7_accuracy: 1.0000 - dense_2_8_accuracy: 0.8456 - dense_2_9_accuracy: 0.6892\n",
      "Epoch 13/15\n",
      "100/100 [==============================] - 7s 72ms/step - loss: 2.7403 - dense_2_loss: 0.0223 - dense_2_1_loss: 0.0119 - dense_2_2_loss: 0.2521 - dense_2_3_loss: 0.4057 - dense_2_4_loss: 0.0044 - dense_2_5_loss: 0.0801 - dense_2_6_loss: 0.7021 - dense_2_7_loss: 0.0071 - dense_2_8_loss: 0.4360 - dense_2_9_loss: 0.8186 - dense_2_accuracy: 0.9966 - dense_2_1_accuracy: 0.9989 - dense_2_2_accuracy: 0.8956 - dense_2_3_accuracy: 0.8989 - dense_2_4_accuracy: 1.0000 - dense_2_5_accuracy: 0.9773 - dense_2_6_accuracy: 0.7939 - dense_2_7_accuracy: 1.0000 - dense_2_8_accuracy: 0.8517 - dense_2_9_accuracy: 0.7134\n",
      "Epoch 14/15\n",
      "100/100 [==============================] - 7s 71ms/step - loss: 2.5492 - dense_2_loss: 0.0203 - dense_2_1_loss: 0.0103 - dense_2_2_loss: 0.2369 - dense_2_3_loss: 0.3744 - dense_2_4_loss: 0.0041 - dense_2_5_loss: 0.0754 - dense_2_6_loss: 0.6434 - dense_2_7_loss: 0.0067 - dense_2_8_loss: 0.4162 - dense_2_9_loss: 0.7616 - dense_2_accuracy: 0.9975 - dense_2_1_accuracy: 0.9991 - dense_2_2_accuracy: 0.9020 - dense_2_3_accuracy: 0.9059 - dense_2_4_accuracy: 1.0000 - dense_2_5_accuracy: 0.9796 - dense_2_6_accuracy: 0.8156 - dense_2_7_accuracy: 1.0000 - dense_2_8_accuracy: 0.8625 - dense_2_9_accuracy: 0.7371\n",
      "Epoch 15/15\n",
      "100/100 [==============================] - 7s 70ms/step - loss: 2.3944 - dense_2_loss: 0.0187 - dense_2_1_loss: 0.0095 - dense_2_2_loss: 0.2225 - dense_2_3_loss: 0.3501 - dense_2_4_loss: 0.0039 - dense_2_5_loss: 0.0715 - dense_2_6_loss: 0.5985 - dense_2_7_loss: 0.0065 - dense_2_8_loss: 0.4027 - dense_2_9_loss: 0.7104 - dense_2_accuracy: 0.9974 - dense_2_1_accuracy: 0.9993 - dense_2_2_accuracy: 0.9093 - dense_2_3_accuracy: 0.9051 - dense_2_4_accuracy: 1.0000 - dense_2_5_accuracy: 0.9807 - dense_2_6_accuracy: 0.8303 - dense_2_7_accuracy: 1.0000 - dense_2_8_accuracy: 0.8678 - dense_2_9_accuracy: 0.7599\n"
     ]
    },
    {
     "data": {
      "text/plain": [
       "<keras.src.callbacks.History at 0x2433f4a3750>"
      ]
     },
     "execution_count": 14,
     "metadata": {},
     "output_type": "execute_result"
    }
   ],
   "source": [
    "model.fit([Xoh, s0, c0], outputs, epochs=15, batch_size=100)"
   ]
  },
  {
   "cell_type": "code",
   "execution_count": 15,
   "id": "b053649d",
   "metadata": {},
   "outputs": [],
   "source": [
    "model.load_weights('models/model.h5')"
   ]
  },
  {
   "cell_type": "code",
   "execution_count": 17,
   "id": "4fee15fe",
   "metadata": {
    "scrolled": true
   },
   "outputs": [
    {
     "name": "stdout",
     "output_type": "stream",
     "text": [
      "1/1 [==============================] - 8s 8s/step\n",
      "source: 3 May 1979\n",
      "output: 1979-05-33 \n",
      "\n",
      "1/1 [==============================] - 0s 29ms/step\n",
      "source: 5 April 09\n",
      "output: 2009-04-05 \n",
      "\n",
      "1/1 [==============================] - 0s 33ms/step\n",
      "source: 21th of August 2016\n",
      "output: 2016-08-20 \n",
      "\n",
      "1/1 [==============================] - 0s 32ms/step\n",
      "source: Tue 10 Jul 2007\n",
      "output: 2007-07-10 \n",
      "\n",
      "1/1 [==============================] - 0s 29ms/step\n",
      "source: Saturday May 9 2018\n",
      "output: 2018-05-09 \n",
      "\n",
      "1/1 [==============================] - 0s 29ms/step\n",
      "source: March 3 2001\n",
      "output: 2001-03-03 \n",
      "\n",
      "1/1 [==============================] - 0s 28ms/step\n",
      "source: March 3rd 2001\n",
      "output: 2001-03-03 \n",
      "\n",
      "1/1 [==============================] - 0s 30ms/step\n",
      "source: 1 March 2001\n",
      "output: 2001-03-01 \n",
      "\n"
     ]
    }
   ],
   "source": [
    "EXAMPLES = ['3 May 1979', '5 April 09', '21th of August 2016', 'Tue 10 Jul 2007', 'Saturday May 9 2018', 'March 3 2001', 'March 3rd 2001', '1 March 2001']\n",
    "s00 = np.zeros((1, n_s))\n",
    "c00 = np.zeros((1, n_s))\n",
    "for example in EXAMPLES:\n",
    "    source = string_to_int(example, Tx, human_vocab)\n",
    "    source = np.array(list(map(lambda x: to_categorical(x, num_classes=len(human_vocab)), source))).swapaxes(0,1)\n",
    "    source = np.swapaxes(source, 0, 1)\n",
    "    source = np.expand_dims(source, axis=0)\n",
    "    prediction = model.predict([source, s00, c00])\n",
    "    prediction = np.argmax(prediction, axis= -1)\n",
    "    output = [inv_machine_vocab[int(i)] for i in prediction]\n",
    "    print('source:', example)\n",
    "    print('output:', ''.join(output), '\\n')"
   ]
  },
  {
   "cell_type": "code",
   "execution_count": 18,
   "id": "3e78685b",
   "metadata": {
    "scrolled": true
   },
   "outputs": [
    {
     "name": "stdout",
     "output_type": "stream",
     "text": [
      "1/1 [==============================] - 0s 31ms/step\n"
     ]
    },
    {
     "data": {
      "text/plain": [
       "<Figure size 640x480 with 0 Axes>"
      ]
     },
     "metadata": {},
     "output_type": "display_data"
    },
    {
     "data": {
      "image/png": "[encoded data removed]",
      "text/plain": [
       "<Figure size 800x850 with 2 Axes>"
      ]
     },
     "metadata": {},
     "output_type": "display_data"
    }
   ],
   "source": [
    "attention_map = plot_attention_map(model, human_vocab, inv_machine_vocab, \"Tuesday 09 Oct 1993\", num = 7, n_s = 64);"
   ]
  },
  {
   "cell_type": "code",
   "execution_count": null,
   "id": "5c3f3ae3",
   "metadata": {},
   "outputs": [],
   "source": []
  }
 ],
 "metadata": {
  "kernelspec": {
   "display_name": "Python 3 (ipykernel)",
   "language": "python",
   "name": "python3"
  },
  "language_info": {
   "codemirror_mode": {
    "name": "ipython",
    "version": 3
   },
   "file_extension": ".py",
   "mimetype": "text/x-python",
   "name": "python",
   "nbconvert_exporter": "python",
   "pygments_lexer": "ipython3",
   "version": "3.11.4"
  }
 },
 "nbformat": 4,
 "nbformat_minor": 5
}
